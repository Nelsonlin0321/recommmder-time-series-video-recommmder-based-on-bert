{
 "cells": [
  {
   "cell_type": "code",
   "execution_count": 1,
   "metadata": {},
   "outputs": [],
   "source": [
    "from config import model_config\n",
    "from model import VedioRecommender\n",
    "from dataset import ViewDataSet\n",
    "import utils"
   ]
  },
  {
   "cell_type": "code",
   "execution_count": 2,
   "metadata": {},
   "outputs": [],
   "source": [
    "from sklearn.model_selection import train_test_split\n",
    "from torch.utils.data import DataLoader\n",
    "from adamp import AdamP"
   ]
  },
  {
   "cell_type": "code",
   "execution_count": 3,
   "metadata": {},
   "outputs": [],
   "source": [
    "import torch\n",
    "from torch import nn"
   ]
  },
  {
   "cell_type": "code",
   "execution_count": 4,
   "metadata": {},
   "outputs": [],
   "source": [
    "from sklearn import metrics\n",
    "from tqdm import tqdm\n",
    "import numpy as np\n",
    "import pandas as pd\n",
    "import os\n",
    "import json"
   ]
  },
  {
   "cell_type": "markdown",
   "metadata": {},
   "source": [
    "### 1) Load Model"
   ]
  },
  {
   "cell_type": "code",
   "execution_count": 5,
   "metadata": {},
   "outputs": [],
   "source": [
    "model = VedioRecommender(model_config)"
   ]
  },
  {
   "cell_type": "markdown",
   "metadata": {},
   "source": [
    "### 2) Read Data "
   ]
  },
  {
   "cell_type": "code",
   "execution_count": 6,
   "metadata": {},
   "outputs": [],
   "source": [
    "df_agg_dataset = utils.open_object(\"./artifacts/df_agg_dataset.pkl\")"
   ]
  },
  {
   "cell_type": "code",
   "execution_count": 7,
   "metadata": {},
   "outputs": [],
   "source": [
    "df_train,df_test = train_test_split(df_agg_dataset,test_size=0.3,random_state=33,shuffle = True )"
   ]
  },
  {
   "cell_type": "code",
   "execution_count": 8,
   "metadata": {},
   "outputs": [],
   "source": [
    "train_dataset = ViewDataSet(df_train)\n",
    "test_dataset = ViewDataSet(df_test)"
   ]
  },
  {
   "cell_type": "code",
   "execution_count": 9,
   "metadata": {},
   "outputs": [],
   "source": [
    "batch_size = 32"
   ]
  },
  {
   "cell_type": "code",
   "execution_count": 10,
   "metadata": {},
   "outputs": [],
   "source": [
    "train_loader = DataLoader(train_dataset, batch_size=12, shuffle=True)\n",
    "test_loader = DataLoader(test_dataset, batch_size=12, shuffle=True)"
   ]
  },
  {
   "cell_type": "code",
   "execution_count": 11,
   "metadata": {},
   "outputs": [],
   "source": [
    "for inputs in train_loader:\n",
    "    break"
   ]
  },
  {
   "cell_type": "markdown",
   "metadata": {},
   "source": [
    "### 3) Training"
   ]
  },
  {
   "cell_type": "code",
   "execution_count": 12,
   "metadata": {},
   "outputs": [],
   "source": [
    "scores = model(inputs)"
   ]
  },
  {
   "cell_type": "code",
   "execution_count": 13,
   "metadata": {},
   "outputs": [],
   "source": [
    "BCELoss = nn.BCELoss()"
   ]
  },
  {
   "cell_type": "code",
   "execution_count": 14,
   "metadata": {},
   "outputs": [],
   "source": [
    "labels = inputs['label']"
   ]
  },
  {
   "cell_type": "code",
   "execution_count": 15,
   "metadata": {},
   "outputs": [
    {
     "data": {
      "text/plain": [
       "tensor(0.6819, grad_fn=<BinaryCrossEntropyBackward0>)"
      ]
     },
     "execution_count": 15,
     "metadata": {},
     "output_type": "execute_result"
    }
   ],
   "source": [
    "BCELoss(scores,labels.view(-1,1))"
   ]
  },
  {
   "cell_type": "code",
   "execution_count": 16,
   "metadata": {},
   "outputs": [],
   "source": [
    "optimizer = AdamP(model.parameters(),lr=4e-4,\n",
    "                  betas=(0.9, 0.999), weight_decay=1e-1)"
   ]
  },
  {
   "cell_type": "code",
   "execution_count": 17,
   "metadata": {},
   "outputs": [],
   "source": [
    "class train_config:\n",
    "    epoches = 5\n",
    "    device = \"cuda\" if torch.cuda.is_available() else \"cpu\"\n",
    "    model_save_dir = \"./artifacts/models\"\n",
    "    train_batch_size = 12\n",
    "    val_batch_size = int(train_batch_size*1.5)\n",
    "    eval_steps = (len(train_dataset)//train_batch_size)//3"
   ]
  },
  {
   "cell_type": "code",
   "execution_count": 18,
   "metadata": {},
   "outputs": [
    {
     "name": "stderr",
     "output_type": "stream",
     "text": [
      "Model Training:   0%|          | 0/490 [00:00<?, ?it/s]"
     ]
    }
   ],
   "source": [
    "total_pbar = tqdm(total = len(train_loader)*train_config.epoches,desc = \"Model Training\",position=0, leave=True)"
   ]
  },
  {
   "cell_type": "code",
   "execution_count": 19,
   "metadata": {},
   "outputs": [],
   "source": [
    "def evaluate_full_metrics(model,dataset_loader):\n",
    "\n",
    "    model.eval()\n",
    "\n",
    "    loss_list = []\n",
    "    labels_list = []\n",
    "    pred_list = []\n",
    "    prob_list = []\n",
    "\n",
    "    pbar = tqdm(total = len(dataset_loader),desc = \"Model Evaluating\",position=0, leave=True)\n",
    "\n",
    "\n",
    "    for inputs in dataset_loader:\n",
    "\n",
    "        with torch.no_grad():\n",
    "            \n",
    "            inputs = utils.to_device(inputs,train_config.device)\n",
    "            labels = inputs['label'].view(-1,1)\n",
    "            \n",
    "            probs = model(inputs)\n",
    "            \n",
    "            loss = BCELoss(probs,labels).item()\n",
    "            loss_list.append(loss)\n",
    "            \n",
    "            labels  = labels.detach().cpu().numpy()\n",
    "            labels_list.extend(labels.flatten())\n",
    "\n",
    "            probs = probs.detach().cpu().numpy()\n",
    "            prob_list.extend(probs.flatten())\n",
    "            pbar.update(1)\n",
    "\n",
    "    pbar.close()\n",
    "    \n",
    "    auc = metrics.roc_auc_score(labels_list, prob_list)\n",
    "    recall, precision, thres = metrics.precision_recall_curve(labels_list, prob_list)\n",
    "    \n",
    "    \n",
    "    f1 = recall*precision*2 / (recall + precision)\n",
    "    f1_temp = f1\n",
    "    f1 = np.nan_to_num(f1,nan = -1)\n",
    "\n",
    "    arg = f1.argmax()\n",
    "    \n",
    "    best_thres = thres[arg]\n",
    "    best_f1 = f1[arg]\n",
    "    best_recall = recall[arg]\n",
    "    best_precision = precision[arg]\n",
    "    \n",
    "    pred_list = [1 if prob>=best_thres else 0 for prob in prob_list]\n",
    "    accuracy = metrics.accuracy_score(labels_list,pred_list)\n",
    "    \n",
    "    avg_loss = np.mean(loss_list)\n",
    "    \n",
    "    result = {\"threshold\":best_thres,\n",
    "              \"accuracy\":accuracy,\n",
    "              \"recall\":best_recall,\n",
    "              \"precision\":best_precision,\n",
    "              \"f1\":best_f1,'auc':auc,\n",
    "              'eval_loss':avg_loss} \n",
    "\n",
    "    return result,prob_list"
   ]
  },
  {
   "cell_type": "code",
   "execution_count": 20,
   "metadata": {},
   "outputs": [
    {
     "name": "stderr",
     "output_type": "stream",
     "text": [
      "Model Evaluating:  14%|█▍        | 6/42 [00:14<01:25,  2.39s/it]"
     ]
    }
   ],
   "source": [
    "result,prob_list = evaluate_full_metrics(model,test_loader)"
   ]
  },
  {
   "cell_type": "code",
   "execution_count": 22,
   "metadata": {},
   "outputs": [
    {
     "data": {
      "text/plain": [
       "{'threshold': 0.49956766,\n",
       " 'accuracy': 0.1536926147704591,\n",
       " 'recall': 0.152,\n",
       " 'precision': 1.0,\n",
       " 'f1': 0.2638888888888889,\n",
       " 'auc': 0.27975232198142413,\n",
       " 'eval_loss': 0.694588398649579}"
      ]
     },
     "execution_count": 22,
     "metadata": {},
     "output_type": "execute_result"
    }
   ],
   "source": [
    "result"
   ]
  },
  {
   "cell_type": "code",
   "execution_count": null,
   "metadata": {},
   "outputs": [],
   "source": []
  },
  {
   "cell_type": "code",
   "execution_count": 23,
   "metadata": {},
   "outputs": [],
   "source": [
    "def save_model(model, model_save_dir,step,model_metrics):\n",
    "    model_save_dir = os.path.join(model_save_dir,f\"checkpoint-{step}\")\n",
    "    model_name = \"pytorch_model.bin\"\n",
    "    train_state_name = \"training_state.json\"\n",
    "    os.makedirs(model_save_dir,exist_ok=True)\n",
    "    \n",
    "    model_path = os.path.join(model_save_dir,model_name)\n",
    "    train_state_path = os.path.join(model_save_dir,train_state_name)\n",
    "\n",
    "    torch.save(model,model_path)\n",
    "    \n",
    "    if model_metrics is not None:\n",
    "        with open(train_state_path,mode = 'w',encoding = 'utf-8-sig') as f:\n",
    "            model_metrics = {str(k):str(v) for k,v in model_metrics.items()} \n",
    "            json.dump(model_metrics,f,indent=4)"
   ]
  },
  {
   "cell_type": "code",
   "execution_count": 25,
   "metadata": {},
   "outputs": [
    {
     "name": "stdout",
     "output_type": "stream",
     "text": [
      "**************************************************epoch: 1**************************************************\n"
     ]
    },
    {
     "ename": "",
     "evalue": "",
     "output_type": "error",
     "traceback": [
      "The Kernel crashed while executing code in the the current cell or a previous cell. Please review the code in the cell(s) to identify a possible cause of the failure. Click <a href='https://aka.ms/vscodeJupyterKernelCrash'>here</a> for more info. View Jupyter <a href='command:jupyter.viewOutput'>log</a> for further details."
     ]
    },
    {
     "ename": "",
     "evalue": "",
     "output_type": "error",
     "traceback": [
      "\u001b[1;31mCanceled future for execute_request message before replies were done"
     ]
    }
   ],
   "source": [
    "total_pbar = tqdm(total = len(train_loader)*train_config.epoches,desc = \"Model Training\",position=0, leave=True)\n",
    "\n",
    "total_batch = 0 \n",
    "for epoch in range(train_config.epoches):\n",
    "    print(\"*\"*50 + f\"epoch: {epoch + 1}\" + \"*\"*50)\n",
    "    \n",
    "    train_losses = []\n",
    "    \n",
    "    for inputs in train_loader:\n",
    "        model = model.train()\n",
    "        inputs = utils.to_device(inputs,train_config.device)\n",
    "        labels = inputs['label'].view(-1,1)\n",
    "        \n",
    "        \n",
    "        optimizer.zero_grad()\n",
    "        \n",
    "        probs = model(inputs)\n",
    "        \n",
    "        loss = BCELoss(probs,labels)\n",
    "        \n",
    "        loss.backward()\n",
    "        optimizer.step()\n",
    "        \n",
    "        train_losses.append(loss.item())\n",
    "        \n",
    "        if (total_batch+1) % train_config.eval_steps ==0:\n",
    "            model_metrics,_ = evaluate_full_metrics(model,test_loader)\n",
    "            train_loss = np.mean(train_losses)\n",
    "            model_metrics['train_loss'] = train_loss\n",
    "            model_metrics[\"steps\"] = total_batch+1\n",
    "        \n",
    "            save_model(model,train_config.model_save_dir,total_batch+1,model_metrics)\n",
    "            df_metrics_temp = pd.DataFrame([model_metrics])\n",
    "            display(df_metrics_temp)\n",
    "            \n",
    "            model = model.train()\n",
    "            \n",
    "    total_batch +=1\n",
    "    total_pbar.update(1)\n",
    "        \n",
    "total_pbar.close()"
   ]
  },
  {
   "cell_type": "code",
   "execution_count": null,
   "metadata": {},
   "outputs": [],
   "source": []
  }
 ],
 "metadata": {
  "kernelspec": {
   "display_name": "Python 3.8.13 ('mlp')",
   "language": "python",
   "name": "python3"
  },
  "language_info": {
   "codemirror_mode": {
    "name": "ipython",
    "version": 3
   },
   "file_extension": ".py",
   "mimetype": "text/x-python",
   "name": "python",
   "nbconvert_exporter": "python",
   "pygments_lexer": "ipython3",
   "version": "3.8.13"
  },
  "orig_nbformat": 4,
  "vscode": {
   "interpreter": {
    "hash": "b007d2981b7fc6aa14922b794f9b4f023f5cfd24ddc48922ef6cc62b5714e3d6"
   }
  }
 },
 "nbformat": 4,
 "nbformat_minor": 2
}
