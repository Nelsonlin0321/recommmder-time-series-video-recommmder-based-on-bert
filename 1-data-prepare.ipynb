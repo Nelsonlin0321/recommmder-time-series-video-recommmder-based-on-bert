{
 "cells": [
  {
   "cell_type": "code",
   "execution_count": 1,
   "metadata": {},
   "outputs": [],
   "source": [
    "import pandas as pd\n",
    "import numpy as np\n",
    "from tqdm import tqdm\n",
    "from utils import save_object,open_object\n",
    "import random\n",
    "from sklearn.utils import shuffle"
   ]
  },
  {
   "cell_type": "code",
   "execution_count": 2,
   "metadata": {},
   "outputs": [],
   "source": [
    "pd.set_option(\"display.max_columns\",None)"
   ]
  },
  {
   "cell_type": "code",
   "execution_count": 3,
   "metadata": {},
   "outputs": [],
   "source": [
    "import warnings\n",
    "warnings.filterwarnings('ignore')"
   ]
  },
  {
   "cell_type": "markdown",
   "metadata": {},
   "source": [
    "### 1) read data"
   ]
  },
  {
   "cell_type": "code",
   "execution_count": 4,
   "metadata": {},
   "outputs": [
    {
     "data": {
      "text/plain": [
       "269272"
      ]
     },
     "execution_count": 4,
     "metadata": {},
     "output_type": "execute_result"
    }
   ],
   "source": [
    "df = pd.read_csv(\"data/202108_test.csv\")\n",
    "len(df)"
   ]
  },
  {
   "cell_type": "code",
   "execution_count": 5,
   "metadata": {},
   "outputs": [
    {
     "data": {
      "text/plain": [
       "1766"
      ]
     },
     "execution_count": 5,
     "metadata": {},
     "output_type": "execute_result"
    }
   ],
   "source": [
    "len(set(df['user_id']))"
   ]
  },
  {
   "cell_type": "code",
   "execution_count": 6,
   "metadata": {},
   "outputs": [
    {
     "data": {
      "text/plain": [
       "{'Singapore'}"
      ]
     },
     "execution_count": 6,
     "metadata": {},
     "output_type": "execute_result"
    }
   ],
   "source": [
    "set(df['country'])"
   ]
  },
  {
   "cell_type": "markdown",
   "metadata": {},
   "source": [
    "### 2) Select Columns"
   ]
  },
  {
   "cell_type": "code",
   "execution_count": 7,
   "metadata": {},
   "outputs": [],
   "source": [
    "series_features = ['product_cat_name','product_lang_name','product_group_series_name','product_series_cms_id']"
   ]
  },
  {
   "cell_type": "code",
   "execution_count": 8,
   "metadata": {},
   "outputs": [],
   "source": [
    "num_feature_cols = ['episode_duration']\n",
    "date_cols = ['device_first_visit_date','video_start_timestamp_hkt','video_end_timestamp_hkt','user_create_date']"
   ]
  },
  {
   "cell_type": "code",
   "execution_count": 9,
   "metadata": {},
   "outputs": [],
   "source": [
    "text_cols = ['eps_des','sri_des']"
   ]
  },
  {
   "cell_type": "code",
   "execution_count": 10,
   "metadata": {},
   "outputs": [],
   "source": [
    "catg_feature_col = ['platform_name','user_type','subscription_source',\n",
    "               'plan_platform','resolution','subtitle','screen_mode',\n",
    "               'device_network_mode','video_streaming_mode','cp_name'] + series_features"
   ]
  },
  {
   "cell_type": "code",
   "execution_count": 11,
   "metadata": {},
   "outputs": [],
   "source": [
    "selected_cols = ['user_id'] + num_feature_cols + date_cols + text_cols + catg_feature_col"
   ]
  },
  {
   "cell_type": "code",
   "execution_count": 12,
   "metadata": {},
   "outputs": [],
   "source": [
    "df = df[selected_cols]"
   ]
  },
  {
   "cell_type": "code",
   "execution_count": 13,
   "metadata": {},
   "outputs": [
    {
     "data": {
      "text/html": [
       "<div>\n",
       "<style scoped>\n",
       "    .dataframe tbody tr th:only-of-type {\n",
       "        vertical-align: middle;\n",
       "    }\n",
       "\n",
       "    .dataframe tbody tr th {\n",
       "        vertical-align: top;\n",
       "    }\n",
       "\n",
       "    .dataframe thead th {\n",
       "        text-align: right;\n",
       "    }\n",
       "</style>\n",
       "<table border=\"1\" class=\"dataframe\">\n",
       "  <thead>\n",
       "    <tr style=\"text-align: right;\">\n",
       "      <th></th>\n",
       "      <th>user_id</th>\n",
       "      <th>episode_duration</th>\n",
       "      <th>device_first_visit_date</th>\n",
       "      <th>video_start_timestamp_hkt</th>\n",
       "      <th>video_end_timestamp_hkt</th>\n",
       "      <th>user_create_date</th>\n",
       "      <th>eps_des</th>\n",
       "      <th>sri_des</th>\n",
       "      <th>platform_name</th>\n",
       "      <th>user_type</th>\n",
       "      <th>subscription_source</th>\n",
       "      <th>plan_platform</th>\n",
       "      <th>resolution</th>\n",
       "      <th>subtitle</th>\n",
       "      <th>screen_mode</th>\n",
       "      <th>device_network_mode</th>\n",
       "      <th>video_streaming_mode</th>\n",
       "      <th>cp_name</th>\n",
       "      <th>product_cat_name</th>\n",
       "      <th>product_lang_name</th>\n",
       "      <th>product_group_series_name</th>\n",
       "      <th>product_series_cms_id</th>\n",
       "    </tr>\n",
       "  </thead>\n",
       "  <tbody>\n",
       "    <tr>\n",
       "      <th>0</th>\n",
       "      <td>0ee9a5dcdfb58211cabaa69056abb395</td>\n",
       "      <td>4345</td>\n",
       "      <td>2016-11-26</td>\n",
       "      <td>2021-06-02 01:14:42</td>\n",
       "      <td>2021-06-02 01:14:57</td>\n",
       "      <td>2019-09-18 00:00:00</td>\n",
       "      <td>Young Jae says her farewell to Joon Young and ...</td>\n",
       "      <td>Love may be found from something very simple. ...</td>\n",
       "      <td>IOS Tablet</td>\n",
       "      <td>Premium</td>\n",
       "      <td>NaN</td>\n",
       "      <td>NaN</td>\n",
       "      <td>240p</td>\n",
       "      <td>English</td>\n",
       "      <td>portrait</td>\n",
       "      <td>Non-mobile</td>\n",
       "      <td>remote</td>\n",
       "      <td>jtbc</td>\n",
       "      <td>Korean Dramas</td>\n",
       "      <td>English</td>\n",
       "      <td>The Third Charm</td>\n",
       "      <td>19809</td>\n",
       "    </tr>\n",
       "    <tr>\n",
       "      <th>1</th>\n",
       "      <td>43d65e495417ac26a3cb7e47f3f3fed8</td>\n",
       "      <td>1507</td>\n",
       "      <td>2018-01-03</td>\n",
       "      <td>2021-05-26 22:37:39</td>\n",
       "      <td>2021-05-26 23:04:31</td>\n",
       "      <td>2017-11-21 00:00:00</td>\n",
       "      <td>Sabina accuses Dong Joo of stealing her toothb...</td>\n",
       "      <td>Four people from very different backgrounds wi...</td>\n",
       "      <td>IOS Tablet</td>\n",
       "      <td>Free</td>\n",
       "      <td>NaN</td>\n",
       "      <td>NaN</td>\n",
       "      <td>480p</td>\n",
       "      <td>English</td>\n",
       "      <td>landscape</td>\n",
       "      <td>Non-mobile</td>\n",
       "      <td>remote</td>\n",
       "      <td>MBC</td>\n",
       "      <td>Korean Dramas</td>\n",
       "      <td>English</td>\n",
       "      <td>Golden Garden</td>\n",
       "      <td>29142</td>\n",
       "    </tr>\n",
       "    <tr>\n",
       "      <th>2</th>\n",
       "      <td>4571e3c70557e41bc4a50d43b7755a37</td>\n",
       "      <td>1646</td>\n",
       "      <td>2019-11-19</td>\n",
       "      <td>2021-05-21 15:47:21</td>\n",
       "      <td>2021-05-21 16:10:41</td>\n",
       "      <td>2020-06-03 00:00:00</td>\n",
       "      <td>It's the anniversary of Pil Seung's parents' d...</td>\n",
       "      <td>Four people from very different backgrounds wi...</td>\n",
       "      <td>IOS Tablet</td>\n",
       "      <td>Free</td>\n",
       "      <td>NaN</td>\n",
       "      <td>NaN</td>\n",
       "      <td>480p</td>\n",
       "      <td>English</td>\n",
       "      <td>portrait</td>\n",
       "      <td>Non-mobile</td>\n",
       "      <td>remote</td>\n",
       "      <td>MBC</td>\n",
       "      <td>Korean Dramas</td>\n",
       "      <td>English</td>\n",
       "      <td>Golden Garden</td>\n",
       "      <td>29142</td>\n",
       "    </tr>\n",
       "    <tr>\n",
       "      <th>3</th>\n",
       "      <td>6bb61e3b7bce0931da574d19d1d82c88</td>\n",
       "      <td>2837</td>\n",
       "      <td>2021-06-05</td>\n",
       "      <td>2021-07-29 12:47:37</td>\n",
       "      <td>2021-07-29 12:55:35</td>\n",
       "      <td>NaN</td>\n",
       "      <td>Raised in a brothel, Wei Xiao Bao is quite a t...</td>\n",
       "      <td>This story revolves the adventure of Wei Xiao ...</td>\n",
       "      <td>Android Mobile</td>\n",
       "      <td>Anonymous</td>\n",
       "      <td>NaN</td>\n",
       "      <td>NaN</td>\n",
       "      <td>480p</td>\n",
       "      <td>English</td>\n",
       "      <td>portrait</td>\n",
       "      <td>Non-mobile</td>\n",
       "      <td>remote</td>\n",
       "      <td>Cathay Media Group</td>\n",
       "      <td>Chinese Dramas</td>\n",
       "      <td>English</td>\n",
       "      <td>Royal Tramp</td>\n",
       "      <td>32127</td>\n",
       "    </tr>\n",
       "    <tr>\n",
       "      <th>4</th>\n",
       "      <td>cb75cdaaba40d64c818722a857f01d0f</td>\n",
       "      <td>1620</td>\n",
       "      <td>2020-06-09</td>\n",
       "      <td>2021-06-03 23:17:34</td>\n",
       "      <td>2021-06-03 23:25:23</td>\n",
       "      <td>2018-06-24 00:00:00</td>\n",
       "      <td>Nam Hee has nightmares about losing her vision...</td>\n",
       "      <td>Four people from very different backgrounds wi...</td>\n",
       "      <td>IOS Tablet</td>\n",
       "      <td>Premium</td>\n",
       "      <td>IOS IAP</td>\n",
       "      <td>iPhone</td>\n",
       "      <td>480p</td>\n",
       "      <td>English</td>\n",
       "      <td>portrait</td>\n",
       "      <td>Non-mobile</td>\n",
       "      <td>remote</td>\n",
       "      <td>MBC</td>\n",
       "      <td>Korean Dramas</td>\n",
       "      <td>English</td>\n",
       "      <td>Golden Garden</td>\n",
       "      <td>29142</td>\n",
       "    </tr>\n",
       "  </tbody>\n",
       "</table>\n",
       "</div>"
      ],
      "text/plain": [
       "                            user_id  episode_duration device_first_visit_date  \\\n",
       "0  0ee9a5dcdfb58211cabaa69056abb395              4345              2016-11-26   \n",
       "1  43d65e495417ac26a3cb7e47f3f3fed8              1507              2018-01-03   \n",
       "2  4571e3c70557e41bc4a50d43b7755a37              1646              2019-11-19   \n",
       "3  6bb61e3b7bce0931da574d19d1d82c88              2837              2021-06-05   \n",
       "4  cb75cdaaba40d64c818722a857f01d0f              1620              2020-06-09   \n",
       "\n",
       "  video_start_timestamp_hkt video_end_timestamp_hkt     user_create_date  \\\n",
       "0       2021-06-02 01:14:42     2021-06-02 01:14:57  2019-09-18 00:00:00   \n",
       "1       2021-05-26 22:37:39     2021-05-26 23:04:31  2017-11-21 00:00:00   \n",
       "2       2021-05-21 15:47:21     2021-05-21 16:10:41  2020-06-03 00:00:00   \n",
       "3       2021-07-29 12:47:37     2021-07-29 12:55:35                  NaN   \n",
       "4       2021-06-03 23:17:34     2021-06-03 23:25:23  2018-06-24 00:00:00   \n",
       "\n",
       "                                             eps_des  \\\n",
       "0  Young Jae says her farewell to Joon Young and ...   \n",
       "1  Sabina accuses Dong Joo of stealing her toothb...   \n",
       "2  It's the anniversary of Pil Seung's parents' d...   \n",
       "3  Raised in a brothel, Wei Xiao Bao is quite a t...   \n",
       "4  Nam Hee has nightmares about losing her vision...   \n",
       "\n",
       "                                             sri_des   platform_name  \\\n",
       "0  Love may be found from something very simple. ...      IOS Tablet   \n",
       "1  Four people from very different backgrounds wi...      IOS Tablet   \n",
       "2  Four people from very different backgrounds wi...      IOS Tablet   \n",
       "3  This story revolves the adventure of Wei Xiao ...  Android Mobile   \n",
       "4  Four people from very different backgrounds wi...      IOS Tablet   \n",
       "\n",
       "   user_type subscription_source plan_platform resolution subtitle  \\\n",
       "0    Premium                 NaN           NaN       240p  English   \n",
       "1       Free                 NaN           NaN       480p  English   \n",
       "2       Free                 NaN           NaN       480p  English   \n",
       "3  Anonymous                 NaN           NaN       480p  English   \n",
       "4    Premium             IOS IAP        iPhone       480p  English   \n",
       "\n",
       "  screen_mode device_network_mode video_streaming_mode             cp_name  \\\n",
       "0    portrait          Non-mobile               remote                jtbc   \n",
       "1   landscape          Non-mobile               remote                 MBC   \n",
       "2    portrait          Non-mobile               remote                 MBC   \n",
       "3    portrait          Non-mobile               remote  Cathay Media Group   \n",
       "4    portrait          Non-mobile               remote                 MBC   \n",
       "\n",
       "  product_cat_name product_lang_name product_group_series_name  \\\n",
       "0    Korean Dramas           English           The Third Charm   \n",
       "1    Korean Dramas           English             Golden Garden   \n",
       "2    Korean Dramas           English             Golden Garden   \n",
       "3   Chinese Dramas           English               Royal Tramp   \n",
       "4    Korean Dramas           English             Golden Garden   \n",
       "\n",
       "   product_series_cms_id  \n",
       "0                  19809  \n",
       "1                  29142  \n",
       "2                  29142  \n",
       "3                  32127  \n",
       "4                  29142  "
      ]
     },
     "execution_count": 13,
     "metadata": {},
     "output_type": "execute_result"
    }
   ],
   "source": [
    "df.head()"
   ]
  },
  {
   "cell_type": "markdown",
   "metadata": {},
   "source": [
    "### 3) Preprocessing"
   ]
  },
  {
   "cell_type": "code",
   "execution_count": 14,
   "metadata": {},
   "outputs": [],
   "source": [
    "df[catg_feature_col] = df[catg_feature_col].fillna('Unknown')"
   ]
  },
  {
   "cell_type": "code",
   "execution_count": 15,
   "metadata": {},
   "outputs": [],
   "source": [
    "df[\"episode_duration\"] = df[\"episode_duration\"].fillna(int(np.mean(df[\"episode_duration\"])))"
   ]
  },
  {
   "cell_type": "code",
   "execution_count": 16,
   "metadata": {},
   "outputs": [],
   "source": [
    "today = pd.to_datetime(\"2022-08-01\")"
   ]
  },
  {
   "cell_type": "code",
   "execution_count": 17,
   "metadata": {},
   "outputs": [],
   "source": [
    "df['device_first_visit_date'] = pd.to_datetime(df['device_first_visit_date'])"
   ]
  },
  {
   "cell_type": "code",
   "execution_count": 18,
   "metadata": {},
   "outputs": [],
   "source": [
    "df['device_first_visit_age'] = df['device_first_visit_date'].apply(lambda x: (today-x).days)"
   ]
  },
  {
   "cell_type": "code",
   "execution_count": 19,
   "metadata": {},
   "outputs": [],
   "source": [
    "df['user_create_date'] = pd.to_datetime(df['user_create_date'])"
   ]
  },
  {
   "cell_type": "code",
   "execution_count": 20,
   "metadata": {},
   "outputs": [],
   "source": [
    "df['user_age'] = df['user_create_date'].apply(lambda x: (today-x).days)"
   ]
  },
  {
   "cell_type": "code",
   "execution_count": null,
   "metadata": {},
   "outputs": [],
   "source": []
  },
  {
   "cell_type": "code",
   "execution_count": 21,
   "metadata": {},
   "outputs": [],
   "source": [
    "df['video_start_timestamp_hkt'] = pd.to_datetime(df['video_start_timestamp_hkt'])"
   ]
  },
  {
   "cell_type": "code",
   "execution_count": 22,
   "metadata": {},
   "outputs": [],
   "source": [
    "df['video_start_hour'] = df['video_start_timestamp_hkt'].apply(lambda x: x.hour)"
   ]
  },
  {
   "cell_type": "code",
   "execution_count": null,
   "metadata": {},
   "outputs": [],
   "source": []
  },
  {
   "cell_type": "code",
   "execution_count": 23,
   "metadata": {},
   "outputs": [],
   "source": [
    "df['video_end_timestamp_hkt'] = pd.to_datetime(df['video_end_timestamp_hkt'])"
   ]
  },
  {
   "cell_type": "code",
   "execution_count": 24,
   "metadata": {},
   "outputs": [],
   "source": [
    "df['video_end_hour'] = df['video_end_timestamp_hkt'].apply(lambda x: x.hour)"
   ]
  },
  {
   "cell_type": "code",
   "execution_count": 25,
   "metadata": {},
   "outputs": [
    {
     "name": "stdout",
     "output_type": "stream",
     "text": [
      "user_create_date\n",
      "eps_des\n",
      "sri_des\n",
      "user_age\n"
     ]
    }
   ],
   "source": [
    "for col in df.columns:\n",
    "    is_null = df[df[col].isnull()]\n",
    "    if len(is_null)>0:\n",
    "        print(col)"
   ]
  },
  {
   "cell_type": "code",
   "execution_count": 26,
   "metadata": {},
   "outputs": [],
   "source": [
    "df['eps_des'] = df['eps_des'].fillna(\"No episode description\")"
   ]
  },
  {
   "cell_type": "code",
   "execution_count": 27,
   "metadata": {},
   "outputs": [],
   "source": [
    "df['sri_des'] = df['sri_des'].fillna(\"No Series description\")"
   ]
  },
  {
   "cell_type": "code",
   "execution_count": 28,
   "metadata": {},
   "outputs": [],
   "source": [
    "df['user_age']  = df['user_age'].fillna(int(np.mean(df['user_age']))) "
   ]
  },
  {
   "cell_type": "code",
   "execution_count": 29,
   "metadata": {},
   "outputs": [
    {
     "name": "stdout",
     "output_type": "stream",
     "text": [
      "user_create_date\n"
     ]
    }
   ],
   "source": [
    "for col in df.columns:\n",
    "    is_null = df[df[col].isnull()]\n",
    "    if len(is_null)>0:\n",
    "        print(col)"
   ]
  },
  {
   "cell_type": "code",
   "execution_count": 30,
   "metadata": {},
   "outputs": [
    {
     "data": {
      "text/html": [
       "<div>\n",
       "<style scoped>\n",
       "    .dataframe tbody tr th:only-of-type {\n",
       "        vertical-align: middle;\n",
       "    }\n",
       "\n",
       "    .dataframe tbody tr th {\n",
       "        vertical-align: top;\n",
       "    }\n",
       "\n",
       "    .dataframe thead th {\n",
       "        text-align: right;\n",
       "    }\n",
       "</style>\n",
       "<table border=\"1\" class=\"dataframe\">\n",
       "  <thead>\n",
       "    <tr style=\"text-align: right;\">\n",
       "      <th></th>\n",
       "      <th>user_id</th>\n",
       "      <th>episode_duration</th>\n",
       "      <th>device_first_visit_date</th>\n",
       "      <th>video_start_timestamp_hkt</th>\n",
       "      <th>video_end_timestamp_hkt</th>\n",
       "      <th>user_create_date</th>\n",
       "      <th>eps_des</th>\n",
       "      <th>sri_des</th>\n",
       "      <th>platform_name</th>\n",
       "      <th>user_type</th>\n",
       "      <th>subscription_source</th>\n",
       "      <th>plan_platform</th>\n",
       "      <th>resolution</th>\n",
       "      <th>subtitle</th>\n",
       "      <th>screen_mode</th>\n",
       "      <th>device_network_mode</th>\n",
       "      <th>video_streaming_mode</th>\n",
       "      <th>cp_name</th>\n",
       "      <th>product_cat_name</th>\n",
       "      <th>product_lang_name</th>\n",
       "      <th>product_group_series_name</th>\n",
       "      <th>product_series_cms_id</th>\n",
       "      <th>device_first_visit_age</th>\n",
       "      <th>user_age</th>\n",
       "      <th>video_start_hour</th>\n",
       "      <th>video_end_hour</th>\n",
       "    </tr>\n",
       "  </thead>\n",
       "  <tbody>\n",
       "    <tr>\n",
       "      <th>0</th>\n",
       "      <td>0ee9a5dcdfb58211cabaa69056abb395</td>\n",
       "      <td>4345</td>\n",
       "      <td>2016-11-26</td>\n",
       "      <td>2021-06-02 01:14:42</td>\n",
       "      <td>2021-06-02 01:14:57</td>\n",
       "      <td>2019-09-18</td>\n",
       "      <td>Young Jae says her farewell to Joon Young and ...</td>\n",
       "      <td>Love may be found from something very simple. ...</td>\n",
       "      <td>IOS Tablet</td>\n",
       "      <td>Premium</td>\n",
       "      <td>Unknown</td>\n",
       "      <td>Unknown</td>\n",
       "      <td>240p</td>\n",
       "      <td>English</td>\n",
       "      <td>portrait</td>\n",
       "      <td>Non-mobile</td>\n",
       "      <td>remote</td>\n",
       "      <td>jtbc</td>\n",
       "      <td>Korean Dramas</td>\n",
       "      <td>English</td>\n",
       "      <td>The Third Charm</td>\n",
       "      <td>19809</td>\n",
       "      <td>2074</td>\n",
       "      <td>1048.0</td>\n",
       "      <td>1</td>\n",
       "      <td>1</td>\n",
       "    </tr>\n",
       "    <tr>\n",
       "      <th>1</th>\n",
       "      <td>43d65e495417ac26a3cb7e47f3f3fed8</td>\n",
       "      <td>1507</td>\n",
       "      <td>2018-01-03</td>\n",
       "      <td>2021-05-26 22:37:39</td>\n",
       "      <td>2021-05-26 23:04:31</td>\n",
       "      <td>2017-11-21</td>\n",
       "      <td>Sabina accuses Dong Joo of stealing her toothb...</td>\n",
       "      <td>Four people from very different backgrounds wi...</td>\n",
       "      <td>IOS Tablet</td>\n",
       "      <td>Free</td>\n",
       "      <td>Unknown</td>\n",
       "      <td>Unknown</td>\n",
       "      <td>480p</td>\n",
       "      <td>English</td>\n",
       "      <td>landscape</td>\n",
       "      <td>Non-mobile</td>\n",
       "      <td>remote</td>\n",
       "      <td>MBC</td>\n",
       "      <td>Korean Dramas</td>\n",
       "      <td>English</td>\n",
       "      <td>Golden Garden</td>\n",
       "      <td>29142</td>\n",
       "      <td>1671</td>\n",
       "      <td>1714.0</td>\n",
       "      <td>22</td>\n",
       "      <td>23</td>\n",
       "    </tr>\n",
       "    <tr>\n",
       "      <th>2</th>\n",
       "      <td>4571e3c70557e41bc4a50d43b7755a37</td>\n",
       "      <td>1646</td>\n",
       "      <td>2019-11-19</td>\n",
       "      <td>2021-05-21 15:47:21</td>\n",
       "      <td>2021-05-21 16:10:41</td>\n",
       "      <td>2020-06-03</td>\n",
       "      <td>It's the anniversary of Pil Seung's parents' d...</td>\n",
       "      <td>Four people from very different backgrounds wi...</td>\n",
       "      <td>IOS Tablet</td>\n",
       "      <td>Free</td>\n",
       "      <td>Unknown</td>\n",
       "      <td>Unknown</td>\n",
       "      <td>480p</td>\n",
       "      <td>English</td>\n",
       "      <td>portrait</td>\n",
       "      <td>Non-mobile</td>\n",
       "      <td>remote</td>\n",
       "      <td>MBC</td>\n",
       "      <td>Korean Dramas</td>\n",
       "      <td>English</td>\n",
       "      <td>Golden Garden</td>\n",
       "      <td>29142</td>\n",
       "      <td>986</td>\n",
       "      <td>789.0</td>\n",
       "      <td>15</td>\n",
       "      <td>16</td>\n",
       "    </tr>\n",
       "    <tr>\n",
       "      <th>3</th>\n",
       "      <td>6bb61e3b7bce0931da574d19d1d82c88</td>\n",
       "      <td>2837</td>\n",
       "      <td>2021-06-05</td>\n",
       "      <td>2021-07-29 12:47:37</td>\n",
       "      <td>2021-07-29 12:55:35</td>\n",
       "      <td>NaT</td>\n",
       "      <td>Raised in a brothel, Wei Xiao Bao is quite a t...</td>\n",
       "      <td>This story revolves the adventure of Wei Xiao ...</td>\n",
       "      <td>Android Mobile</td>\n",
       "      <td>Anonymous</td>\n",
       "      <td>Unknown</td>\n",
       "      <td>Unknown</td>\n",
       "      <td>480p</td>\n",
       "      <td>English</td>\n",
       "      <td>portrait</td>\n",
       "      <td>Non-mobile</td>\n",
       "      <td>remote</td>\n",
       "      <td>Cathay Media Group</td>\n",
       "      <td>Chinese Dramas</td>\n",
       "      <td>English</td>\n",
       "      <td>Royal Tramp</td>\n",
       "      <td>32127</td>\n",
       "      <td>422</td>\n",
       "      <td>1460.0</td>\n",
       "      <td>12</td>\n",
       "      <td>12</td>\n",
       "    </tr>\n",
       "    <tr>\n",
       "      <th>4</th>\n",
       "      <td>cb75cdaaba40d64c818722a857f01d0f</td>\n",
       "      <td>1620</td>\n",
       "      <td>2020-06-09</td>\n",
       "      <td>2021-06-03 23:17:34</td>\n",
       "      <td>2021-06-03 23:25:23</td>\n",
       "      <td>2018-06-24</td>\n",
       "      <td>Nam Hee has nightmares about losing her vision...</td>\n",
       "      <td>Four people from very different backgrounds wi...</td>\n",
       "      <td>IOS Tablet</td>\n",
       "      <td>Premium</td>\n",
       "      <td>IOS IAP</td>\n",
       "      <td>iPhone</td>\n",
       "      <td>480p</td>\n",
       "      <td>English</td>\n",
       "      <td>portrait</td>\n",
       "      <td>Non-mobile</td>\n",
       "      <td>remote</td>\n",
       "      <td>MBC</td>\n",
       "      <td>Korean Dramas</td>\n",
       "      <td>English</td>\n",
       "      <td>Golden Garden</td>\n",
       "      <td>29142</td>\n",
       "      <td>783</td>\n",
       "      <td>1499.0</td>\n",
       "      <td>23</td>\n",
       "      <td>23</td>\n",
       "    </tr>\n",
       "  </tbody>\n",
       "</table>\n",
       "</div>"
      ],
      "text/plain": [
       "                            user_id  episode_duration device_first_visit_date  \\\n",
       "0  0ee9a5dcdfb58211cabaa69056abb395              4345              2016-11-26   \n",
       "1  43d65e495417ac26a3cb7e47f3f3fed8              1507              2018-01-03   \n",
       "2  4571e3c70557e41bc4a50d43b7755a37              1646              2019-11-19   \n",
       "3  6bb61e3b7bce0931da574d19d1d82c88              2837              2021-06-05   \n",
       "4  cb75cdaaba40d64c818722a857f01d0f              1620              2020-06-09   \n",
       "\n",
       "  video_start_timestamp_hkt video_end_timestamp_hkt user_create_date  \\\n",
       "0       2021-06-02 01:14:42     2021-06-02 01:14:57       2019-09-18   \n",
       "1       2021-05-26 22:37:39     2021-05-26 23:04:31       2017-11-21   \n",
       "2       2021-05-21 15:47:21     2021-05-21 16:10:41       2020-06-03   \n",
       "3       2021-07-29 12:47:37     2021-07-29 12:55:35              NaT   \n",
       "4       2021-06-03 23:17:34     2021-06-03 23:25:23       2018-06-24   \n",
       "\n",
       "                                             eps_des  \\\n",
       "0  Young Jae says her farewell to Joon Young and ...   \n",
       "1  Sabina accuses Dong Joo of stealing her toothb...   \n",
       "2  It's the anniversary of Pil Seung's parents' d...   \n",
       "3  Raised in a brothel, Wei Xiao Bao is quite a t...   \n",
       "4  Nam Hee has nightmares about losing her vision...   \n",
       "\n",
       "                                             sri_des   platform_name  \\\n",
       "0  Love may be found from something very simple. ...      IOS Tablet   \n",
       "1  Four people from very different backgrounds wi...      IOS Tablet   \n",
       "2  Four people from very different backgrounds wi...      IOS Tablet   \n",
       "3  This story revolves the adventure of Wei Xiao ...  Android Mobile   \n",
       "4  Four people from very different backgrounds wi...      IOS Tablet   \n",
       "\n",
       "   user_type subscription_source plan_platform resolution subtitle  \\\n",
       "0    Premium             Unknown       Unknown       240p  English   \n",
       "1       Free             Unknown       Unknown       480p  English   \n",
       "2       Free             Unknown       Unknown       480p  English   \n",
       "3  Anonymous             Unknown       Unknown       480p  English   \n",
       "4    Premium             IOS IAP        iPhone       480p  English   \n",
       "\n",
       "  screen_mode device_network_mode video_streaming_mode             cp_name  \\\n",
       "0    portrait          Non-mobile               remote                jtbc   \n",
       "1   landscape          Non-mobile               remote                 MBC   \n",
       "2    portrait          Non-mobile               remote                 MBC   \n",
       "3    portrait          Non-mobile               remote  Cathay Media Group   \n",
       "4    portrait          Non-mobile               remote                 MBC   \n",
       "\n",
       "  product_cat_name product_lang_name product_group_series_name  \\\n",
       "0    Korean Dramas           English           The Third Charm   \n",
       "1    Korean Dramas           English             Golden Garden   \n",
       "2    Korean Dramas           English             Golden Garden   \n",
       "3   Chinese Dramas           English               Royal Tramp   \n",
       "4    Korean Dramas           English             Golden Garden   \n",
       "\n",
       "   product_series_cms_id  device_first_visit_age  user_age  video_start_hour  \\\n",
       "0                  19809                    2074    1048.0                 1   \n",
       "1                  29142                    1671    1714.0                22   \n",
       "2                  29142                     986     789.0                15   \n",
       "3                  32127                     422    1460.0                12   \n",
       "4                  29142                     783    1499.0                23   \n",
       "\n",
       "   video_end_hour  \n",
       "0               1  \n",
       "1              23  \n",
       "2              16  \n",
       "3              12  \n",
       "4              23  "
      ]
     },
     "execution_count": 30,
     "metadata": {},
     "output_type": "execute_result"
    }
   ],
   "source": [
    "df.head()"
   ]
  },
  {
   "cell_type": "markdown",
   "metadata": {},
   "source": [
    "### 4)  Features engineering"
   ]
  },
  {
   "cell_type": "markdown",
   "metadata": {},
   "source": [
    "### numeric features"
   ]
  },
  {
   "cell_type": "code",
   "execution_count": 31,
   "metadata": {},
   "outputs": [],
   "source": [
    "numeric_features = ['episode_duration','device_first_visit_age','user_age','video_start_hour','video_end_hour']"
   ]
  },
  {
   "cell_type": "code",
   "execution_count": 32,
   "metadata": {},
   "outputs": [],
   "source": [
    "# import matplotlib.pyplot as plt"
   ]
  },
  {
   "cell_type": "code",
   "execution_count": 33,
   "metadata": {},
   "outputs": [],
   "source": [
    "from sklearn.preprocessing import MinMaxScaler"
   ]
  },
  {
   "cell_type": "code",
   "execution_count": 34,
   "metadata": {},
   "outputs": [],
   "source": [
    "scaler = MinMaxScaler()"
   ]
  },
  {
   "cell_type": "code",
   "execution_count": 35,
   "metadata": {},
   "outputs": [
    {
     "data": {
      "text/html": [
       "<style>#sk-container-id-1 {color: black;background-color: white;}#sk-container-id-1 pre{padding: 0;}#sk-container-id-1 div.sk-toggleable {background-color: white;}#sk-container-id-1 label.sk-toggleable__label {cursor: pointer;display: block;width: 100%;margin-bottom: 0;padding: 0.3em;box-sizing: border-box;text-align: center;}#sk-container-id-1 label.sk-toggleable__label-arrow:before {content: \"▸\";float: left;margin-right: 0.25em;color: #696969;}#sk-container-id-1 label.sk-toggleable__label-arrow:hover:before {color: black;}#sk-container-id-1 div.sk-estimator:hover label.sk-toggleable__label-arrow:before {color: black;}#sk-container-id-1 div.sk-toggleable__content {max-height: 0;max-width: 0;overflow: hidden;text-align: left;background-color: #f0f8ff;}#sk-container-id-1 div.sk-toggleable__content pre {margin: 0.2em;color: black;border-radius: 0.25em;background-color: #f0f8ff;}#sk-container-id-1 input.sk-toggleable__control:checked~div.sk-toggleable__content {max-height: 200px;max-width: 100%;overflow: auto;}#sk-container-id-1 input.sk-toggleable__control:checked~label.sk-toggleable__label-arrow:before {content: \"▾\";}#sk-container-id-1 div.sk-estimator input.sk-toggleable__control:checked~label.sk-toggleable__label {background-color: #d4ebff;}#sk-container-id-1 div.sk-label input.sk-toggleable__control:checked~label.sk-toggleable__label {background-color: #d4ebff;}#sk-container-id-1 input.sk-hidden--visually {border: 0;clip: rect(1px 1px 1px 1px);clip: rect(1px, 1px, 1px, 1px);height: 1px;margin: -1px;overflow: hidden;padding: 0;position: absolute;width: 1px;}#sk-container-id-1 div.sk-estimator {font-family: monospace;background-color: #f0f8ff;border: 1px dotted black;border-radius: 0.25em;box-sizing: border-box;margin-bottom: 0.5em;}#sk-container-id-1 div.sk-estimator:hover {background-color: #d4ebff;}#sk-container-id-1 div.sk-parallel-item::after {content: \"\";width: 100%;border-bottom: 1px solid gray;flex-grow: 1;}#sk-container-id-1 div.sk-label:hover label.sk-toggleable__label {background-color: #d4ebff;}#sk-container-id-1 div.sk-serial::before {content: \"\";position: absolute;border-left: 1px solid gray;box-sizing: border-box;top: 0;bottom: 0;left: 50%;z-index: 0;}#sk-container-id-1 div.sk-serial {display: flex;flex-direction: column;align-items: center;background-color: white;padding-right: 0.2em;padding-left: 0.2em;position: relative;}#sk-container-id-1 div.sk-item {position: relative;z-index: 1;}#sk-container-id-1 div.sk-parallel {display: flex;align-items: stretch;justify-content: center;background-color: white;position: relative;}#sk-container-id-1 div.sk-item::before, #sk-container-id-1 div.sk-parallel-item::before {content: \"\";position: absolute;border-left: 1px solid gray;box-sizing: border-box;top: 0;bottom: 0;left: 50%;z-index: -1;}#sk-container-id-1 div.sk-parallel-item {display: flex;flex-direction: column;z-index: 1;position: relative;background-color: white;}#sk-container-id-1 div.sk-parallel-item:first-child::after {align-self: flex-end;width: 50%;}#sk-container-id-1 div.sk-parallel-item:last-child::after {align-self: flex-start;width: 50%;}#sk-container-id-1 div.sk-parallel-item:only-child::after {width: 0;}#sk-container-id-1 div.sk-dashed-wrapped {border: 1px dashed gray;margin: 0 0.4em 0.5em 0.4em;box-sizing: border-box;padding-bottom: 0.4em;background-color: white;}#sk-container-id-1 div.sk-label label {font-family: monospace;font-weight: bold;display: inline-block;line-height: 1.2em;}#sk-container-id-1 div.sk-label-container {text-align: center;}#sk-container-id-1 div.sk-container {/* jupyter's `normalize.less` sets `[hidden] { display: none; }` but bootstrap.min.css set `[hidden] { display: none !important; }` so we also need the `!important` here to be able to override the default hidden behavior on the sphinx rendered scikit-learn.org. See: https://github.com/scikit-learn/scikit-learn/issues/21755 */display: inline-block !important;position: relative;}#sk-container-id-1 div.sk-text-repr-fallback {display: none;}</style><div id=\"sk-container-id-1\" class=\"sk-top-container\"><div class=\"sk-text-repr-fallback\"><pre>MinMaxScaler()</pre><b>In a Jupyter environment, please rerun this cell to show the HTML representation or trust the notebook. <br />On GitHub, the HTML representation is unable to render, please try loading this page with nbviewer.org.</b></div><div class=\"sk-container\" hidden><div class=\"sk-item\"><div class=\"sk-estimator sk-toggleable\"><input class=\"sk-toggleable__control sk-hidden--visually\" id=\"sk-estimator-id-1\" type=\"checkbox\" checked><label for=\"sk-estimator-id-1\" class=\"sk-toggleable__label sk-toggleable__label-arrow\">MinMaxScaler</label><div class=\"sk-toggleable__content\"><pre>MinMaxScaler()</pre></div></div></div></div></div>"
      ],
      "text/plain": [
       "MinMaxScaler()"
      ]
     },
     "execution_count": 35,
     "metadata": {},
     "output_type": "execute_result"
    }
   ],
   "source": [
    "scaler.fit(df[numeric_features])"
   ]
  },
  {
   "cell_type": "code",
   "execution_count": 36,
   "metadata": {},
   "outputs": [],
   "source": [
    "df[numeric_features] = scaler.transform(df[numeric_features])"
   ]
  },
  {
   "cell_type": "code",
   "execution_count": 37,
   "metadata": {},
   "outputs": [],
   "source": [
    "save_object(\"artifacts/numeric_scaler.pkl\", scaler)"
   ]
  },
  {
   "cell_type": "code",
   "execution_count": 38,
   "metadata": {},
   "outputs": [],
   "source": [
    "df['sri_des'] = df.apply(lambda x:f\"{x['product_group_series_name']}: \"+x['sri_des'],axis = 1) "
   ]
  },
  {
   "cell_type": "markdown",
   "metadata": {},
   "source": [
    "### category features"
   ]
  },
  {
   "cell_type": "code",
   "execution_count": 39,
   "metadata": {},
   "outputs": [],
   "source": [
    "catg_feature_col  = ['platform_name','user_type','subscription_source','plan_platform','resolution',\n",
    "                    'subtitle','screen_mode','device_network_mode','video_streaming_mode','cp_name',\n",
    "                    \"product_cat_name\",\"product_lang_name\",\"product_series_cms_id\"]"
   ]
  },
  {
   "cell_type": "code",
   "execution_count": 40,
   "metadata": {},
   "outputs": [],
   "source": [
    "col_value_to_index_dict = {}\n",
    "for col in catg_feature_col:\n",
    "    unique_value = set(df[col])\n",
    "    value_dict = {val:index for (index,val) in enumerate(unique_value)}\n",
    "    col_value_to_index_dict[col] = value_dict\n",
    "    df[col] = df[col].map(value_dict)"
   ]
  },
  {
   "cell_type": "code",
   "execution_count": 41,
   "metadata": {},
   "outputs": [],
   "source": [
    "save_object(\"./artifacts/col_value_to_index_dict.pkl\",col_value_to_index_dict)"
   ]
  },
  {
   "cell_type": "code",
   "execution_count": 42,
   "metadata": {},
   "outputs": [],
   "source": [
    "df_series = df[['product_series_cms_id','cp_name','product_lang_name','product_cat_name','sri_des']]"
   ]
  },
  {
   "cell_type": "code",
   "execution_count": 43,
   "metadata": {},
   "outputs": [],
   "source": [
    "df_series = df_series.drop_duplicates()"
   ]
  },
  {
   "cell_type": "code",
   "execution_count": 44,
   "metadata": {},
   "outputs": [],
   "source": [
    "df_series = df_series.reset_index(drop=True)"
   ]
  },
  {
   "cell_type": "code",
   "execution_count": 45,
   "metadata": {},
   "outputs": [],
   "source": [
    "save_object(\"./artifacts/series_table.pkl\",df_series)"
   ]
  },
  {
   "cell_type": "markdown",
   "metadata": {},
   "source": [
    "### 6) Select Col Again"
   ]
  },
  {
   "cell_type": "code",
   "execution_count": 46,
   "metadata": {},
   "outputs": [],
   "source": [
    "df = df[['user_id',\n",
    " 'episode_duration',\n",
    " 'video_start_timestamp_hkt',\n",
    " 'sri_des',\n",
    " 'platform_name',\n",
    " 'user_type',\n",
    " 'subscription_source',\n",
    " 'plan_platform',\n",
    " 'resolution',\n",
    " 'subtitle',\n",
    " 'screen_mode',\n",
    " 'device_network_mode',\n",
    " 'video_streaming_mode',\n",
    " 'cp_name',\n",
    " 'product_cat_name',\n",
    " 'product_lang_name',\n",
    " 'product_series_cms_id',\n",
    " 'device_first_visit_age',\n",
    " 'user_age',\n",
    " 'video_start_hour',\n",
    " 'video_end_hour']]"
   ]
  },
  {
   "cell_type": "code",
   "execution_count": 47,
   "metadata": {},
   "outputs": [],
   "source": [
    "# example = df.head(6).copy()\n",
    "\n",
    "# example.iloc[5]"
   ]
  },
  {
   "cell_type": "code",
   "execution_count": 48,
   "metadata": {},
   "outputs": [],
   "source": [
    "\n",
    "\n",
    "# last_view = example.iloc[5].to_dict()\n",
    "\n",
    "# negative_view = df_series.iloc[782].to_dict()\n",
    "\n",
    "# last_view.update(negative_view)\n",
    "\n",
    "# example.iloc[5]=last_view\n",
    "\n",
    "# example.iloc[5]"
   ]
  },
  {
   "cell_type": "code",
   "execution_count": 49,
   "metadata": {},
   "outputs": [],
   "source": [
    "save_object(\"./artifacts/features_table.pkl\",df)"
   ]
  },
  {
   "cell_type": "markdown",
   "metadata": {},
   "source": [
    "### 7)  Prepration training data"
   ]
  },
  {
   "cell_type": "code",
   "execution_count": 50,
   "metadata": {},
   "outputs": [],
   "source": [
    "num_negative = 5 # negative sampling\n",
    "window_size = 6"
   ]
  },
  {
   "cell_type": "code",
   "execution_count": 51,
   "metadata": {},
   "outputs": [],
   "source": [
    "def get_user_historical_veiw_sequence(df_user,window_size = 6):\n",
    "    \n",
    "    n_slide = len(df_user)-window_size+1\n",
    "    \n",
    "    df_list = []\n",
    "    \n",
    "    df_user = df_user.sort_values(by='video_start_timestamp_hkt')\n",
    "    \n",
    "    sequence_id = 0\n",
    "    \n",
    "    for slide in range(n_slide):\n",
    "        df_positive = df_user.iloc[slide:slide+window_size].copy()\n",
    "        df_positive['sequence_id'] = sequence_id\n",
    "        df_positive['label'] = 1\n",
    "        \n",
    "        future_series_ids = set(df_user[slide+window_size-1:]['product_series_cms_id'])\n",
    "        \n",
    "        # negative sampling\n",
    "        negative_series_ids= np.random.choice(list(df_series.index),num_negative)\n",
    "        \n",
    "        for neg_id in negative_series_ids:\n",
    "            if neg_id not in future_series_ids:\n",
    "                \n",
    "                sequence_id+=1\n",
    "                \n",
    "                negative_view = df_series.iloc[neg_id].to_dict()\n",
    "                \n",
    "                df_negative = df_positive.copy()\n",
    "                df_negative['sequence_id'] = sequence_id\n",
    "                \n",
    "                last_view = df_negative.iloc[window_size-1].to_dict()\n",
    "                last_view.update(negative_view)\n",
    "                \n",
    "                df_negative.iloc[window_size-1]=last_view\n",
    "                df_negative['label'] = 0\n",
    "                df_list.append(df_negative)\n",
    "                   \n",
    "        sequence_id+=1\n",
    "        \n",
    "        df_list.append(df_positive)\n",
    "    # due to limit of memory    \n",
    "    sample_ratio = 0.3\n",
    "    sample_size = int(sample_ratio * len(df_list)) + 1\n",
    "    df_sample_list = random.sample(df_list,sample_size)\n",
    "    return pd.concat(df_sample_list)"
   ]
  },
  {
   "cell_type": "code",
   "execution_count": 52,
   "metadata": {},
   "outputs": [],
   "source": [
    "user_list = shuffle(list(set(df['user_id'])))"
   ]
  },
  {
   "cell_type": "code",
   "execution_count": 53,
   "metadata": {},
   "outputs": [],
   "source": [
    "sample_size = 0.5\n",
    "sample_size = int(sample_size * len(user_list))\n",
    "user_list = user_list[:sample_size]"
   ]
  },
  {
   "cell_type": "code",
   "execution_count": 54,
   "metadata": {},
   "outputs": [
    {
     "name": "stderr",
     "output_type": "stream",
     "text": [
      "100%|██████████| 883/883 [12:48<00:00,  1.15it/s]\n"
     ]
    }
   ],
   "source": [
    "# due to the out of memeory, we limit the size of each user view history\n",
    "df_list = []\n",
    "for user_id in tqdm(user_list):\n",
    "    df_user = df[df['user_id']==user_id]\n",
    "    if len(df_user)>=window_size:\n",
    "        df_user = get_user_historical_veiw_sequence(df_user,window_size)\n",
    "        df_list.append(df_user)"
   ]
  },
  {
   "cell_type": "code",
   "execution_count": 58,
   "metadata": {},
   "outputs": [],
   "source": [
    "df_dataset = pd.concat(df_list)"
   ]
  },
  {
   "cell_type": "code",
   "execution_count": 59,
   "metadata": {},
   "outputs": [],
   "source": [
    "save_object(\"./artifacts/df_dataset.pkl\",df_dataset)"
   ]
  },
  {
   "cell_type": "code",
   "execution_count": 60,
   "metadata": {},
   "outputs": [
    {
     "data": {
      "text/plain": [
       "1168680"
      ]
     },
     "execution_count": 60,
     "metadata": {},
     "output_type": "execute_result"
    }
   ],
   "source": [
    "len(df_dataset)"
   ]
  },
  {
   "cell_type": "code",
   "execution_count": 61,
   "metadata": {},
   "outputs": [],
   "source": [
    "from collections import Counter"
   ]
  },
  {
   "cell_type": "code",
   "execution_count": 62,
   "metadata": {},
   "outputs": [
    {
     "data": {
      "text/plain": [
       "Counter({0: 973758, 1: 194922})"
      ]
     },
     "execution_count": 62,
     "metadata": {},
     "output_type": "execute_result"
    }
   ],
   "source": [
    "Counter(df_dataset['label'])"
   ]
  }
 ],
 "metadata": {
  "kernelspec": {
   "display_name": "Python 3.9.13 ('torch')",
   "language": "python",
   "name": "python3"
  },
  "language_info": {
   "codemirror_mode": {
    "name": "ipython",
    "version": 3
   },
   "file_extension": ".py",
   "mimetype": "text/x-python",
   "name": "python",
   "nbconvert_exporter": "python",
   "pygments_lexer": "ipython3",
   "version": "3.9.13"
  },
  "vscode": {
   "interpreter": {
    "hash": "6514ced458bdb201f5d3944e6ec87d786afec4746d32ceb81db15635ec0b0a7d"
   }
  }
 },
 "nbformat": 4,
 "nbformat_minor": 2
}
