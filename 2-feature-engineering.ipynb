{
 "cells": [
  {
   "cell_type": "code",
   "execution_count": 1,
   "metadata": {},
   "outputs": [],
   "source": [
    "import pandas as pd\n",
    "import numpy as np\n",
    "from tqdm import tqdm\n",
    "import swifter\n",
    "from sklearn.utils import shuffle"
   ]
  },
  {
   "cell_type": "code",
   "execution_count": 2,
   "metadata": {},
   "outputs": [],
   "source": [
    "import utils"
   ]
  },
  {
   "cell_type": "code",
   "execution_count": 3,
   "metadata": {},
   "outputs": [],
   "source": [
    "import torch\n",
    "from torch import nn\n",
    "from transformers import AutoTokenizer\n",
    "from transformers import AutoModel,AutoConfig"
   ]
  },
  {
   "cell_type": "code",
   "execution_count": 4,
   "metadata": {},
   "outputs": [],
   "source": [
    "pd.set_option(\"display.max_columns\",None)\n",
    "\n",
    "import warnings\n",
    "warnings.filterwarnings('ignore')"
   ]
  },
  {
   "cell_type": "code",
   "execution_count": 5,
   "metadata": {},
   "outputs": [],
   "source": [
    "pretrained_model_name = \"albert-base-v2\"\n",
    "tokenizer = AutoTokenizer.from_pretrained(pretrained_model_name, add_prefix_space=False)"
   ]
  },
  {
   "cell_type": "code",
   "execution_count": 6,
   "metadata": {},
   "outputs": [],
   "source": [
    "sep_token = tokenizer.sep_token"
   ]
  },
  {
   "cell_type": "markdown",
   "metadata": {},
   "source": [
    "### 1) read data"
   ]
  },
  {
   "cell_type": "code",
   "execution_count": 7,
   "metadata": {},
   "outputs": [],
   "source": [
    "df_dataset = utils.open_object(\"./artifacts/df_dataset.pkl\")"
   ]
  },
  {
   "cell_type": "code",
   "execution_count": 8,
   "metadata": {},
   "outputs": [],
   "source": [
    "test_size = 10000\n",
    "# df_dataset = shuffle(df_dataset).head(test_size)\n",
    "df_dataset = df_dataset.head(test_size)"
   ]
  },
  {
   "cell_type": "code",
   "execution_count": 9,
   "metadata": {},
   "outputs": [],
   "source": [
    "# df_dataset.head(20)"
   ]
  },
  {
   "cell_type": "code",
   "execution_count": 10,
   "metadata": {},
   "outputs": [],
   "source": [
    "df_series = utils.open_object(\"./artifacts/series_table.pkl\")"
   ]
  },
  {
   "cell_type": "code",
   "execution_count": 11,
   "metadata": {},
   "outputs": [
    {
     "data": {
      "text/html": [
       "<div>\n",
       "<style scoped>\n",
       "    .dataframe tbody tr th:only-of-type {\n",
       "        vertical-align: middle;\n",
       "    }\n",
       "\n",
       "    .dataframe tbody tr th {\n",
       "        vertical-align: top;\n",
       "    }\n",
       "\n",
       "    .dataframe thead th {\n",
       "        text-align: right;\n",
       "    }\n",
       "</style>\n",
       "<table border=\"1\" class=\"dataframe\">\n",
       "  <thead>\n",
       "    <tr style=\"text-align: right;\">\n",
       "      <th></th>\n",
       "      <th>product_series_cms_id</th>\n",
       "      <th>cp_name</th>\n",
       "      <th>product_lang_name</th>\n",
       "      <th>product_cat_name</th>\n",
       "      <th>sri_des</th>\n",
       "    </tr>\n",
       "  </thead>\n",
       "  <tbody>\n",
       "    <tr>\n",
       "      <th>0</th>\n",
       "      <td>754</td>\n",
       "      <td>36</td>\n",
       "      <td>2</td>\n",
       "      <td>25</td>\n",
       "      <td>The Third Charm: Love may be found from someth...</td>\n",
       "    </tr>\n",
       "    <tr>\n",
       "      <th>1</th>\n",
       "      <td>939</td>\n",
       "      <td>24</td>\n",
       "      <td>2</td>\n",
       "      <td>25</td>\n",
       "      <td>Golden Garden: Four people from very different...</td>\n",
       "    </tr>\n",
       "    <tr>\n",
       "      <th>2</th>\n",
       "      <td>1389</td>\n",
       "      <td>60</td>\n",
       "      <td>2</td>\n",
       "      <td>16</td>\n",
       "      <td>Royal Tramp: This story revolves the adventure...</td>\n",
       "    </tr>\n",
       "    <tr>\n",
       "      <th>3</th>\n",
       "      <td>1225</td>\n",
       "      <td>35</td>\n",
       "      <td>2</td>\n",
       "      <td>26</td>\n",
       "      <td>Along with The Gods: The Last 49 Days: The thr...</td>\n",
       "    </tr>\n",
       "    <tr>\n",
       "      <th>4</th>\n",
       "      <td>1051</td>\n",
       "      <td>43</td>\n",
       "      <td>2</td>\n",
       "      <td>9</td>\n",
       "      <td>Another Miss Oh (Tagalog): May dalawang Oh Hae...</td>\n",
       "    </tr>\n",
       "  </tbody>\n",
       "</table>\n",
       "</div>"
      ],
      "text/plain": [
       "   product_series_cms_id  cp_name  product_lang_name  product_cat_name  \\\n",
       "0                    754       36                  2                25   \n",
       "1                    939       24                  2                25   \n",
       "2                   1389       60                  2                16   \n",
       "3                   1225       35                  2                26   \n",
       "4                   1051       43                  2                 9   \n",
       "\n",
       "                                             sri_des  \n",
       "0  The Third Charm: Love may be found from someth...  \n",
       "1  Golden Garden: Four people from very different...  \n",
       "2  Royal Tramp: This story revolves the adventure...  \n",
       "3  Along with The Gods: The Last 49 Days: The thr...  \n",
       "4  Another Miss Oh (Tagalog): May dalawang Oh Hae...  "
      ]
     },
     "execution_count": 11,
     "metadata": {},
     "output_type": "execute_result"
    }
   ],
   "source": [
    "df_series.head()"
   ]
  },
  {
   "cell_type": "markdown",
   "metadata": {},
   "source": [
    "### 2)  Agg historical view features"
   ]
  },
  {
   "cell_type": "code",
   "execution_count": 12,
   "metadata": {},
   "outputs": [],
   "source": [
    "example = df_dataset.head()"
   ]
  },
  {
   "cell_type": "code",
   "execution_count": 13,
   "metadata": {},
   "outputs": [],
   "source": [
    "series_features = set(list(df_series.columns))"
   ]
  },
  {
   "cell_type": "code",
   "execution_count": 14,
   "metadata": {},
   "outputs": [
    {
     "data": {
      "text/plain": [
       "{'cp_name',\n",
       " 'product_cat_name',\n",
       " 'product_lang_name',\n",
       " 'product_series_cms_id',\n",
       " 'sri_des'}"
      ]
     },
     "execution_count": 14,
     "metadata": {},
     "output_type": "execute_result"
    }
   ],
   "source": [
    "series_features"
   ]
  },
  {
   "cell_type": "code",
   "execution_count": 15,
   "metadata": {},
   "outputs": [],
   "source": [
    "# example.groupby(group_key)"
   ]
  },
  {
   "cell_type": "code",
   "execution_count": 16,
   "metadata": {},
   "outputs": [],
   "source": [
    "numeric_scaler = utils.open_object(\"artifacts/numeric_scaler.pkl\")"
   ]
  },
  {
   "cell_type": "code",
   "execution_count": 17,
   "metadata": {},
   "outputs": [],
   "source": [
    "numeric_features = list(numeric_scaler.feature_names_in_)"
   ]
  },
  {
   "cell_type": "code",
   "execution_count": 18,
   "metadata": {},
   "outputs": [],
   "source": [
    "category_value_map_dict = utils.open_object(\"./artifacts/col_value_to_index_dict.pkl\")"
   ]
  },
  {
   "cell_type": "code",
   "execution_count": 19,
   "metadata": {},
   "outputs": [],
   "source": [
    "catergory_features = list(category_value_map_dict)"
   ]
  },
  {
   "cell_type": "code",
   "execution_count": 20,
   "metadata": {},
   "outputs": [],
   "source": [
    "# text_features = ['eps_des','sri_des']\n",
    "text_features = ['sri_des']"
   ]
  },
  {
   "cell_type": "code",
   "execution_count": 21,
   "metadata": {},
   "outputs": [],
   "source": [
    "agg_text_feature_dict  = example[text_features].to_dict(\"list\")"
   ]
  },
  {
   "cell_type": "code",
   "execution_count": 22,
   "metadata": {},
   "outputs": [],
   "source": [
    "# len(list(agg_text_feature_dict['eps_des']))"
   ]
  },
  {
   "cell_type": "code",
   "execution_count": 23,
   "metadata": {},
   "outputs": [],
   "source": [
    "def process_text(agg_text_feature_dict):\n",
    "    agg_join_text_feature_dict = {}\n",
    "    for field in agg_text_feature_dict:\n",
    "        list_text = agg_text_feature_dict[field]\n",
    "        \n",
    "        hist_text = list_text[:-1]\n",
    "        next_text = list_text[-1]\n",
    "        \n",
    "        hist_text_unique = []\n",
    "        \n",
    "        for text in hist_text:\n",
    "            if text not in hist_text_unique:\n",
    "                hist_text_unique.append(text)\n",
    "        \n",
    "        num_tokens = 512//(len(hist_text_unique)+1)\n",
    "        \n",
    "        hist_text = [\" \".join(text.split(\" \")[:num_tokens]) for text in hist_text_unique]\n",
    "        next_text = \" \".join(next_text.split(\" \")[:num_tokens])\n",
    "        hist_text = \" \".join([f\"{field} {index+1}: \" + text for index,text in enumerate(hist_text)])\n",
    "                                        \n",
    "        agg_join_text_feature_dict[\"next_\"+field] = next_text\n",
    "        agg_join_text_feature_dict[\"hist_\"+field] = hist_text\n",
    "    return agg_join_text_feature_dict"
   ]
  },
  {
   "cell_type": "code",
   "execution_count": 24,
   "metadata": {},
   "outputs": [],
   "source": [
    "def get_aggregated_feature_dict(example):\n",
    "    agg_numeric_feature_dict = np.mean(example[numeric_features]).to_dict()\n",
    "\n",
    "    agg_catergory_feature_dict = example[catergory_features].to_dict(orient=\"list\")\n",
    "    agg_catergory_feature_dict = {k:v[:-1] if k not in series_features else v for (k,v) in agg_catergory_feature_dict.items()}\n",
    "    \n",
    "    \n",
    "    agg_text_feature_dict = example[text_features].to_dict(orient=\"list\")\n",
    "    agg_text_feature_dict = process_text(agg_text_feature_dict)\n",
    "\n",
    "    all_agg_feature_dict = {}\n",
    "\n",
    "    all_agg_feature_dict.update(agg_numeric_feature_dict)\n",
    "    all_agg_feature_dict.update(agg_catergory_feature_dict)\n",
    "    all_agg_feature_dict.update(agg_text_feature_dict)\n",
    "\n",
    "    return all_agg_feature_dict"
   ]
  },
  {
   "cell_type": "code",
   "execution_count": 25,
   "metadata": {},
   "outputs": [],
   "source": [
    "group_key = ['user_id','sequence_id','label']"
   ]
  },
  {
   "cell_type": "code",
   "execution_count": 26,
   "metadata": {},
   "outputs": [
    {
     "name": "stderr",
     "output_type": "stream",
     "text": [
      "100%|██████████| 1667/1667 [00:01<00:00, 1220.81it/s]\n"
     ]
    }
   ],
   "source": [
    "dataset_dict_list = []\n",
    "for (user_id,seq_id,label),view_history in tqdm(df_dataset.groupby(group_key)):\n",
    "    aggregated_feature_dict = get_aggregated_feature_dict(view_history)\n",
    "    aggregated_feature_dict['user_id'] = user_id\n",
    "    aggregated_feature_dict['sequence_id']= seq_id\n",
    "    aggregated_feature_dict['label'] = label\n",
    "    dataset_dict_list.append(aggregated_feature_dict)\n",
    "#     break"
   ]
  },
  {
   "cell_type": "code",
   "execution_count": 27,
   "metadata": {},
   "outputs": [],
   "source": [
    "# %timeit df_agg_dataset_tmp = df_dataset.groupby(group_key).apply(lambda x:get_aggregated_feature_dict(x)).reset_index()"
   ]
  },
  {
   "cell_type": "code",
   "execution_count": 28,
   "metadata": {},
   "outputs": [],
   "source": [
    "df_agg_dataset = pd.DataFrame(dataset_dict_list)"
   ]
  },
  {
   "cell_type": "code",
   "execution_count": 29,
   "metadata": {},
   "outputs": [],
   "source": [
    "utils.save_object(\"./artifacts/df_agg_dataset.pkl\",df_agg_dataset)"
   ]
  }
 ],
 "metadata": {
  "kernelspec": {
   "display_name": "Python 3.8.13 ('mlp')",
   "language": "python",
   "name": "python3"
  },
  "language_info": {
   "codemirror_mode": {
    "name": "ipython",
    "version": 3
   },
   "file_extension": ".py",
   "mimetype": "text/x-python",
   "name": "python",
   "nbconvert_exporter": "python",
   "pygments_lexer": "ipython3",
   "version": "3.8.13"
  },
  "vscode": {
   "interpreter": {
    "hash": "b007d2981b7fc6aa14922b794f9b4f023f5cfd24ddc48922ef6cc62b5714e3d6"
   }
  }
 },
 "nbformat": 4,
 "nbformat_minor": 2
}
