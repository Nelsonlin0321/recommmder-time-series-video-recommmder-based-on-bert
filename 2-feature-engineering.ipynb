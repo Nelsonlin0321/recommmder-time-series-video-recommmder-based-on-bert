{
 "cells": [
  {
   "cell_type": "code",
   "execution_count": 1,
   "metadata": {},
   "outputs": [],
   "source": [
    "import pandas as pd\n",
    "import numpy as np\n",
    "from tqdm import tqdm\n",
    "import swifter\n",
    "from sklearn.utils import shuffle"
   ]
  },
  {
   "cell_type": "code",
   "execution_count": 2,
   "metadata": {},
   "outputs": [],
   "source": [
    "import utils"
   ]
  },
  {
   "cell_type": "code",
   "execution_count": 3,
   "metadata": {},
   "outputs": [],
   "source": [
    "import torch\n",
    "from torch import nn\n",
    "from transformers import AutoTokenizer\n",
    "from transformers import AutoModel,AutoConfig"
   ]
  },
  {
   "cell_type": "code",
   "execution_count": 4,
   "metadata": {},
   "outputs": [],
   "source": [
    "pd.set_option(\"display.max_columns\",None)\n",
    "\n",
    "import warnings\n",
    "warnings.filterwarnings('ignore')"
   ]
  },
  {
   "cell_type": "code",
   "execution_count": 5,
   "metadata": {},
   "outputs": [],
   "source": [
    "# pretrained_model_name = \"albert-base-v2\"\n",
    "# tokenizer = AutoTokenizer.from_pretrained(pretrained_model_name, add_prefix_space=False)"
   ]
  },
  {
   "cell_type": "code",
   "execution_count": 6,
   "metadata": {},
   "outputs": [],
   "source": [
    "# sep_token = tokenizer.sep_token"
   ]
  },
  {
   "cell_type": "markdown",
   "metadata": {},
   "source": [
    "### 1) read data"
   ]
  },
  {
   "cell_type": "code",
   "execution_count": 7,
   "metadata": {},
   "outputs": [],
   "source": [
    "df_dataset = utils.open_object(\"./artifacts/df_dataset.pkl\")"
   ]
  },
  {
   "cell_type": "code",
   "execution_count": 8,
   "metadata": {},
   "outputs": [
    {
     "data": {
      "text/plain": [
       "2671872"
      ]
     },
     "execution_count": 8,
     "metadata": {},
     "output_type": "execute_result"
    }
   ],
   "source": [
    "len(df_dataset)"
   ]
  },
  {
   "cell_type": "code",
   "execution_count": 9,
   "metadata": {},
   "outputs": [],
   "source": [
    "# test_size = 10000\n",
    "# # df_dataset = shuffle(df_dataset).head(test_size)\n",
    "# df_dataset = df_dataset.head(test_size)"
   ]
  },
  {
   "cell_type": "code",
   "execution_count": 10,
   "metadata": {},
   "outputs": [],
   "source": [
    "# df_dataset.head(20)"
   ]
  },
  {
   "cell_type": "code",
   "execution_count": 11,
   "metadata": {},
   "outputs": [],
   "source": [
    "df_series = utils.open_object(\"./artifacts/series_table.pkl\")"
   ]
  },
  {
   "cell_type": "code",
   "execution_count": 12,
   "metadata": {},
   "outputs": [
    {
     "data": {
      "text/html": [
       "<div>\n",
       "<style scoped>\n",
       "    .dataframe tbody tr th:only-of-type {\n",
       "        vertical-align: middle;\n",
       "    }\n",
       "\n",
       "    .dataframe tbody tr th {\n",
       "        vertical-align: top;\n",
       "    }\n",
       "\n",
       "    .dataframe thead th {\n",
       "        text-align: right;\n",
       "    }\n",
       "</style>\n",
       "<table border=\"1\" class=\"dataframe\">\n",
       "  <thead>\n",
       "    <tr style=\"text-align: right;\">\n",
       "      <th></th>\n",
       "      <th>product_series_cms_id</th>\n",
       "      <th>cp_name</th>\n",
       "      <th>product_lang_name</th>\n",
       "      <th>product_cat_name</th>\n",
       "      <th>sri_des</th>\n",
       "    </tr>\n",
       "  </thead>\n",
       "  <tbody>\n",
       "    <tr>\n",
       "      <th>0</th>\n",
       "      <td>754</td>\n",
       "      <td>19</td>\n",
       "      <td>0</td>\n",
       "      <td>27</td>\n",
       "      <td>The Third Charm: Love may be found from someth...</td>\n",
       "    </tr>\n",
       "    <tr>\n",
       "      <th>1</th>\n",
       "      <td>939</td>\n",
       "      <td>13</td>\n",
       "      <td>0</td>\n",
       "      <td>27</td>\n",
       "      <td>Golden Garden: Four people from very different...</td>\n",
       "    </tr>\n",
       "    <tr>\n",
       "      <th>2</th>\n",
       "      <td>1389</td>\n",
       "      <td>64</td>\n",
       "      <td>0</td>\n",
       "      <td>31</td>\n",
       "      <td>Royal Tramp: This story revolves the adventure...</td>\n",
       "    </tr>\n",
       "    <tr>\n",
       "      <th>3</th>\n",
       "      <td>1225</td>\n",
       "      <td>11</td>\n",
       "      <td>0</td>\n",
       "      <td>8</td>\n",
       "      <td>Along with The Gods: The Last 49 Days: The thr...</td>\n",
       "    </tr>\n",
       "    <tr>\n",
       "      <th>4</th>\n",
       "      <td>1051</td>\n",
       "      <td>62</td>\n",
       "      <td>0</td>\n",
       "      <td>37</td>\n",
       "      <td>Another Miss Oh (Tagalog): May dalawang Oh Hae...</td>\n",
       "    </tr>\n",
       "  </tbody>\n",
       "</table>\n",
       "</div>"
      ],
      "text/plain": [
       "   product_series_cms_id  cp_name  product_lang_name  product_cat_name  \\\n",
       "0                    754       19                  0                27   \n",
       "1                    939       13                  0                27   \n",
       "2                   1389       64                  0                31   \n",
       "3                   1225       11                  0                 8   \n",
       "4                   1051       62                  0                37   \n",
       "\n",
       "                                             sri_des  \n",
       "0  The Third Charm: Love may be found from someth...  \n",
       "1  Golden Garden: Four people from very different...  \n",
       "2  Royal Tramp: This story revolves the adventure...  \n",
       "3  Along with The Gods: The Last 49 Days: The thr...  \n",
       "4  Another Miss Oh (Tagalog): May dalawang Oh Hae...  "
      ]
     },
     "execution_count": 12,
     "metadata": {},
     "output_type": "execute_result"
    }
   ],
   "source": [
    "df_series.head()"
   ]
  },
  {
   "cell_type": "markdown",
   "metadata": {},
   "source": [
    "### 2)  Agg historical view features"
   ]
  },
  {
   "cell_type": "code",
   "execution_count": 13,
   "metadata": {},
   "outputs": [],
   "source": [
    "example = df_dataset.head()"
   ]
  },
  {
   "cell_type": "code",
   "execution_count": 14,
   "metadata": {},
   "outputs": [],
   "source": [
    "series_features = set(list(df_series.columns))"
   ]
  },
  {
   "cell_type": "code",
   "execution_count": 15,
   "metadata": {},
   "outputs": [
    {
     "data": {
      "text/plain": [
       "{'cp_name',\n",
       " 'product_cat_name',\n",
       " 'product_lang_name',\n",
       " 'product_series_cms_id',\n",
       " 'sri_des'}"
      ]
     },
     "execution_count": 15,
     "metadata": {},
     "output_type": "execute_result"
    }
   ],
   "source": [
    "series_features"
   ]
  },
  {
   "cell_type": "code",
   "execution_count": 16,
   "metadata": {},
   "outputs": [],
   "source": [
    "# example.groupby(group_key)"
   ]
  },
  {
   "cell_type": "code",
   "execution_count": 17,
   "metadata": {},
   "outputs": [],
   "source": [
    "numeric_scaler = utils.open_object(\"artifacts/numeric_scaler.pkl\")"
   ]
  },
  {
   "cell_type": "code",
   "execution_count": 18,
   "metadata": {},
   "outputs": [],
   "source": [
    "numeric_features = list(numeric_scaler.feature_names_in_)"
   ]
  },
  {
   "cell_type": "code",
   "execution_count": 19,
   "metadata": {},
   "outputs": [],
   "source": [
    "category_value_map_dict = utils.open_object(\"./artifacts/col_value_to_index_dict.pkl\")"
   ]
  },
  {
   "cell_type": "code",
   "execution_count": 20,
   "metadata": {},
   "outputs": [],
   "source": [
    "catergory_features = list(category_value_map_dict)"
   ]
  },
  {
   "cell_type": "code",
   "execution_count": 21,
   "metadata": {},
   "outputs": [],
   "source": [
    "# text_features = ['eps_des','sri_des']\n",
    "text_features = ['sri_des']"
   ]
  },
  {
   "cell_type": "code",
   "execution_count": 22,
   "metadata": {},
   "outputs": [],
   "source": [
    "agg_text_feature_dict  = example[text_features].to_dict(\"list\")"
   ]
  },
  {
   "cell_type": "code",
   "execution_count": 23,
   "metadata": {},
   "outputs": [],
   "source": [
    "# len(list(agg_text_feature_dict['eps_des']))"
   ]
  },
  {
   "cell_type": "code",
   "execution_count": 24,
   "metadata": {},
   "outputs": [],
   "source": [
    "def process_text(agg_text_feature_dict):\n",
    "    agg_join_text_feature_dict = {}\n",
    "    for field in agg_text_feature_dict:\n",
    "        list_text = agg_text_feature_dict[field]\n",
    "        \n",
    "        hist_text = list_text[:-1]\n",
    "        next_text = list_text[-1]\n",
    "        \n",
    "        hist_text_unique = []\n",
    "        \n",
    "        for text in hist_text:\n",
    "            if text not in hist_text_unique:\n",
    "                hist_text_unique.append(text)\n",
    "        \n",
    "        num_tokens = 512//(len(hist_text_unique)+1)\n",
    "        \n",
    "        hist_text = [\" \".join(text.split(\" \")[:num_tokens]) for text in hist_text_unique]\n",
    "        next_text = \" \".join(next_text.split(\" \")[:num_tokens])\n",
    "        hist_text = \" \".join([f\"{field} {index+1}: \" + text for index,text in enumerate(hist_text)])\n",
    "                                        \n",
    "        agg_join_text_feature_dict[\"next_\"+field] = next_text\n",
    "        agg_join_text_feature_dict[\"hist_\"+field] = hist_text\n",
    "    return agg_join_text_feature_dict"
   ]
  },
  {
   "cell_type": "code",
   "execution_count": 25,
   "metadata": {},
   "outputs": [],
   "source": [
    "def get_aggregated_feature_dict(example):\n",
    "    agg_numeric_feature_dict = np.mean(example[numeric_features]).to_dict()\n",
    "\n",
    "    agg_catergory_feature_dict = example[catergory_features].to_dict(orient=\"list\")\n",
    "    agg_catergory_feature_dict = {k:v[:-1] if k not in series_features else v for (k,v) in agg_catergory_feature_dict.items()}\n",
    "    \n",
    "    \n",
    "    agg_text_feature_dict = example[text_features].to_dict(orient=\"list\")\n",
    "    agg_text_feature_dict = process_text(agg_text_feature_dict)\n",
    "\n",
    "    all_agg_feature_dict = {}\n",
    "\n",
    "    all_agg_feature_dict.update(agg_numeric_feature_dict)\n",
    "    all_agg_feature_dict.update(agg_catergory_feature_dict)\n",
    "    all_agg_feature_dict.update(agg_text_feature_dict)\n",
    "\n",
    "    return all_agg_feature_dict"
   ]
  },
  {
   "cell_type": "code",
   "execution_count": 26,
   "metadata": {},
   "outputs": [],
   "source": [
    "group_key = ['user_id','sequence_id','label']"
   ]
  },
  {
   "cell_type": "code",
   "execution_count": 27,
   "metadata": {},
   "outputs": [
    {
     "name": "stderr",
     "output_type": "stream",
     "text": [
      "100%|██████████| 445312/445312 [05:41<00:00, 1303.12it/s]\n"
     ]
    }
   ],
   "source": [
    "dataset_dict_list = []\n",
    "for (user_id,seq_id,label),view_history in tqdm(df_dataset.groupby(group_key)):\n",
    "    aggregated_feature_dict = get_aggregated_feature_dict(view_history)\n",
    "    aggregated_feature_dict['user_id'] = user_id\n",
    "    aggregated_feature_dict['sequence_id']= seq_id\n",
    "    aggregated_feature_dict['label'] = label\n",
    "    dataset_dict_list.append(aggregated_feature_dict)\n",
    "#     break"
   ]
  },
  {
   "cell_type": "code",
   "execution_count": 28,
   "metadata": {},
   "outputs": [],
   "source": [
    "# %timeit df_agg_dataset_tmp = df_dataset.groupby(group_key).apply(lambda x:get_aggregated_feature_dict(x)).reset_index()"
   ]
  },
  {
   "cell_type": "code",
   "execution_count": 33,
   "metadata": {},
   "outputs": [
    {
     "data": {
      "text/html": [
       "<div>\n",
       "<style scoped>\n",
       "    .dataframe tbody tr th:only-of-type {\n",
       "        vertical-align: middle;\n",
       "    }\n",
       "\n",
       "    .dataframe tbody tr th {\n",
       "        vertical-align: top;\n",
       "    }\n",
       "\n",
       "    .dataframe thead th {\n",
       "        text-align: right;\n",
       "    }\n",
       "</style>\n",
       "<table border=\"1\" class=\"dataframe\">\n",
       "  <thead>\n",
       "    <tr style=\"text-align: right;\">\n",
       "      <th></th>\n",
       "      <th>episode_duration</th>\n",
       "      <th>device_first_visit_age</th>\n",
       "      <th>user_age</th>\n",
       "      <th>video_start_hour</th>\n",
       "      <th>video_end_hour</th>\n",
       "      <th>platform_name</th>\n",
       "      <th>user_type</th>\n",
       "      <th>subscription_source</th>\n",
       "      <th>plan_platform</th>\n",
       "      <th>resolution</th>\n",
       "      <th>subtitle</th>\n",
       "      <th>screen_mode</th>\n",
       "      <th>device_network_mode</th>\n",
       "      <th>video_streaming_mode</th>\n",
       "      <th>cp_name</th>\n",
       "      <th>product_cat_name</th>\n",
       "      <th>product_lang_name</th>\n",
       "      <th>product_series_cms_id</th>\n",
       "      <th>next_sri_des</th>\n",
       "      <th>hist_sri_des</th>\n",
       "      <th>user_id</th>\n",
       "      <th>sequence_id</th>\n",
       "      <th>label</th>\n",
       "    </tr>\n",
       "  </thead>\n",
       "  <tbody>\n",
       "    <tr>\n",
       "      <th>0</th>\n",
       "      <td>0.459936</td>\n",
       "      <td>0.15625</td>\n",
       "      <td>0.991258</td>\n",
       "      <td>0.550725</td>\n",
       "      <td>0.572464</td>\n",
       "      <td>[3, 3, 3, 3, 3]</td>\n",
       "      <td>[0, 0, 0, 0, 0]</td>\n",
       "      <td>[2, 2, 2, 2, 2]</td>\n",
       "      <td>[7, 7, 7, 7, 7]</td>\n",
       "      <td>[1, 1, 1, 1, 1]</td>\n",
       "      <td>[6, 6, 6, 6, 6]</td>\n",
       "      <td>[2, 1, 1, 2, 2]</td>\n",
       "      <td>[1, 1, 1, 1, 1]</td>\n",
       "      <td>[0, 0, 0, 2, 2]</td>\n",
       "      <td>[62, 62, 62, 43, 43, 36]</td>\n",
       "      <td>[37, 37, 37, 25, 25, 25]</td>\n",
       "      <td>[2, 2, 2, 2, 2, 2]</td>\n",
       "      <td>[508, 508, 508, 1094, 169, 984]</td>\n",
       "      <td>Beyond Evil: Police inspectors are often the m...</td>\n",
       "      <td>sri_des 1: The Return of Superman (2021): The ...</td>\n",
       "      <td>00189c7eddbe8fa8b0eb6cb6d27d4ee0</td>\n",
       "      <td>6</td>\n",
       "      <td>1</td>\n",
       "    </tr>\n",
       "    <tr>\n",
       "      <th>1</th>\n",
       "      <td>0.430993</td>\n",
       "      <td>0.15625</td>\n",
       "      <td>0.991258</td>\n",
       "      <td>0.565217</td>\n",
       "      <td>0.579710</td>\n",
       "      <td>[3, 3, 3, 3, 3]</td>\n",
       "      <td>[0, 0, 0, 0, 0]</td>\n",
       "      <td>[2, 2, 2, 2, 2]</td>\n",
       "      <td>[7, 7, 7, 7, 7]</td>\n",
       "      <td>[1, 1, 1, 1, 1]</td>\n",
       "      <td>[6, 6, 6, 6, 6]</td>\n",
       "      <td>[1, 1, 2, 2, 2]</td>\n",
       "      <td>[1, 1, 1, 1, 1]</td>\n",
       "      <td>[0, 0, 2, 2, 2]</td>\n",
       "      <td>[62, 62, 43, 43, 36, 49]</td>\n",
       "      <td>[37, 37, 25, 25, 25, 39]</td>\n",
       "      <td>[2, 2, 2, 2, 2, 2]</td>\n",
       "      <td>[508, 508, 1094, 169, 984, 176]</td>\n",
       "      <td>House Hunters Asia S1: House Hunters Asia brin...</td>\n",
       "      <td>sri_des 1: The Return of Superman (2021): The ...</td>\n",
       "      <td>00189c7eddbe8fa8b0eb6cb6d27d4ee0</td>\n",
       "      <td>15</td>\n",
       "      <td>0</td>\n",
       "    </tr>\n",
       "    <tr>\n",
       "      <th>2</th>\n",
       "      <td>0.430993</td>\n",
       "      <td>0.15625</td>\n",
       "      <td>0.991258</td>\n",
       "      <td>0.565217</td>\n",
       "      <td>0.579710</td>\n",
       "      <td>[3, 3, 3, 3, 3]</td>\n",
       "      <td>[0, 0, 0, 0, 0]</td>\n",
       "      <td>[2, 2, 2, 2, 2]</td>\n",
       "      <td>[7, 7, 7, 7, 7]</td>\n",
       "      <td>[1, 1, 1, 1, 1]</td>\n",
       "      <td>[6, 6, 6, 6, 6]</td>\n",
       "      <td>[1, 1, 2, 2, 2]</td>\n",
       "      <td>[1, 1, 1, 1, 1]</td>\n",
       "      <td>[0, 0, 2, 2, 2]</td>\n",
       "      <td>[62, 62, 43, 43, 36, 62]</td>\n",
       "      <td>[37, 37, 25, 25, 25, 25]</td>\n",
       "      <td>[2, 2, 2, 2, 2, 2]</td>\n",
       "      <td>[508, 508, 1094, 169, 984, 19]</td>\n",
       "      <td>Angel's Last Mission-Love: People just fall in...</td>\n",
       "      <td>sri_des 1: The Return of Superman (2021): The ...</td>\n",
       "      <td>00189c7eddbe8fa8b0eb6cb6d27d4ee0</td>\n",
       "      <td>17</td>\n",
       "      <td>0</td>\n",
       "    </tr>\n",
       "    <tr>\n",
       "      <th>3</th>\n",
       "      <td>0.403273</td>\n",
       "      <td>0.15625</td>\n",
       "      <td>0.991258</td>\n",
       "      <td>0.586957</td>\n",
       "      <td>0.601449</td>\n",
       "      <td>[3, 3, 3, 3, 3]</td>\n",
       "      <td>[0, 0, 0, 0, 0]</td>\n",
       "      <td>[2, 2, 2, 2, 2]</td>\n",
       "      <td>[7, 7, 7, 7, 7]</td>\n",
       "      <td>[1, 1, 1, 1, 1]</td>\n",
       "      <td>[6, 6, 6, 6, 6]</td>\n",
       "      <td>[1, 2, 2, 2, 2]</td>\n",
       "      <td>[1, 1, 1, 1, 1]</td>\n",
       "      <td>[0, 2, 2, 2, 2]</td>\n",
       "      <td>[62, 43, 43, 36, 36, 36]</td>\n",
       "      <td>[37, 25, 25, 25, 25, 25]</td>\n",
       "      <td>[2, 2, 2, 2, 2, 2]</td>\n",
       "      <td>[508, 1094, 169, 984, 862, 862]</td>\n",
       "      <td>18 Again: Jung Da Jung was once a girl who was...</td>\n",
       "      <td>sri_des 1: The Return of Superman (2021): The ...</td>\n",
       "      <td>00189c7eddbe8fa8b0eb6cb6d27d4ee0</td>\n",
       "      <td>18</td>\n",
       "      <td>1</td>\n",
       "    </tr>\n",
       "    <tr>\n",
       "      <th>4</th>\n",
       "      <td>0.403273</td>\n",
       "      <td>0.15625</td>\n",
       "      <td>0.991258</td>\n",
       "      <td>0.586957</td>\n",
       "      <td>0.601449</td>\n",
       "      <td>[3, 3, 3, 3, 3]</td>\n",
       "      <td>[0, 0, 0, 0, 0]</td>\n",
       "      <td>[2, 2, 2, 2, 2]</td>\n",
       "      <td>[7, 7, 7, 7, 7]</td>\n",
       "      <td>[1, 1, 1, 1, 1]</td>\n",
       "      <td>[6, 6, 6, 6, 6]</td>\n",
       "      <td>[1, 2, 2, 2, 2]</td>\n",
       "      <td>[1, 1, 1, 1, 1]</td>\n",
       "      <td>[0, 2, 2, 2, 2]</td>\n",
       "      <td>[62, 43, 43, 36, 36, 24]</td>\n",
       "      <td>[37, 25, 25, 25, 25, 25]</td>\n",
       "      <td>[2, 2, 2, 2, 2, 2]</td>\n",
       "      <td>[508, 1094, 169, 984, 862, 1002]</td>\n",
       "      <td>Kairos: Living a precarious life as a part-tim...</td>\n",
       "      <td>sri_des 1: The Return of Superman (2021): The ...</td>\n",
       "      <td>00189c7eddbe8fa8b0eb6cb6d27d4ee0</td>\n",
       "      <td>22</td>\n",
       "      <td>0</td>\n",
       "    </tr>\n",
       "  </tbody>\n",
       "</table>\n",
       "</div>"
      ],
      "text/plain": [
       "   episode_duration  device_first_visit_age  user_age  video_start_hour  \\\n",
       "0          0.459936                 0.15625  0.991258          0.550725   \n",
       "1          0.430993                 0.15625  0.991258          0.565217   \n",
       "2          0.430993                 0.15625  0.991258          0.565217   \n",
       "3          0.403273                 0.15625  0.991258          0.586957   \n",
       "4          0.403273                 0.15625  0.991258          0.586957   \n",
       "\n",
       "   video_end_hour    platform_name        user_type subscription_source  \\\n",
       "0        0.572464  [3, 3, 3, 3, 3]  [0, 0, 0, 0, 0]     [2, 2, 2, 2, 2]   \n",
       "1        0.579710  [3, 3, 3, 3, 3]  [0, 0, 0, 0, 0]     [2, 2, 2, 2, 2]   \n",
       "2        0.579710  [3, 3, 3, 3, 3]  [0, 0, 0, 0, 0]     [2, 2, 2, 2, 2]   \n",
       "3        0.601449  [3, 3, 3, 3, 3]  [0, 0, 0, 0, 0]     [2, 2, 2, 2, 2]   \n",
       "4        0.601449  [3, 3, 3, 3, 3]  [0, 0, 0, 0, 0]     [2, 2, 2, 2, 2]   \n",
       "\n",
       "     plan_platform       resolution         subtitle      screen_mode  \\\n",
       "0  [7, 7, 7, 7, 7]  [1, 1, 1, 1, 1]  [6, 6, 6, 6, 6]  [2, 1, 1, 2, 2]   \n",
       "1  [7, 7, 7, 7, 7]  [1, 1, 1, 1, 1]  [6, 6, 6, 6, 6]  [1, 1, 2, 2, 2]   \n",
       "2  [7, 7, 7, 7, 7]  [1, 1, 1, 1, 1]  [6, 6, 6, 6, 6]  [1, 1, 2, 2, 2]   \n",
       "3  [7, 7, 7, 7, 7]  [1, 1, 1, 1, 1]  [6, 6, 6, 6, 6]  [1, 2, 2, 2, 2]   \n",
       "4  [7, 7, 7, 7, 7]  [1, 1, 1, 1, 1]  [6, 6, 6, 6, 6]  [1, 2, 2, 2, 2]   \n",
       "\n",
       "  device_network_mode video_streaming_mode                   cp_name  \\\n",
       "0     [1, 1, 1, 1, 1]      [0, 0, 0, 2, 2]  [62, 62, 62, 43, 43, 36]   \n",
       "1     [1, 1, 1, 1, 1]      [0, 0, 2, 2, 2]  [62, 62, 43, 43, 36, 49]   \n",
       "2     [1, 1, 1, 1, 1]      [0, 0, 2, 2, 2]  [62, 62, 43, 43, 36, 62]   \n",
       "3     [1, 1, 1, 1, 1]      [0, 2, 2, 2, 2]  [62, 43, 43, 36, 36, 36]   \n",
       "4     [1, 1, 1, 1, 1]      [0, 2, 2, 2, 2]  [62, 43, 43, 36, 36, 24]   \n",
       "\n",
       "           product_cat_name   product_lang_name  \\\n",
       "0  [37, 37, 37, 25, 25, 25]  [2, 2, 2, 2, 2, 2]   \n",
       "1  [37, 37, 25, 25, 25, 39]  [2, 2, 2, 2, 2, 2]   \n",
       "2  [37, 37, 25, 25, 25, 25]  [2, 2, 2, 2, 2, 2]   \n",
       "3  [37, 25, 25, 25, 25, 25]  [2, 2, 2, 2, 2, 2]   \n",
       "4  [37, 25, 25, 25, 25, 25]  [2, 2, 2, 2, 2, 2]   \n",
       "\n",
       "              product_series_cms_id  \\\n",
       "0   [508, 508, 508, 1094, 169, 984]   \n",
       "1   [508, 508, 1094, 169, 984, 176]   \n",
       "2    [508, 508, 1094, 169, 984, 19]   \n",
       "3   [508, 1094, 169, 984, 862, 862]   \n",
       "4  [508, 1094, 169, 984, 862, 1002]   \n",
       "\n",
       "                                        next_sri_des  \\\n",
       "0  Beyond Evil: Police inspectors are often the m...   \n",
       "1  House Hunters Asia S1: House Hunters Asia brin...   \n",
       "2  Angel's Last Mission-Love: People just fall in...   \n",
       "3  18 Again: Jung Da Jung was once a girl who was...   \n",
       "4  Kairos: Living a precarious life as a part-tim...   \n",
       "\n",
       "                                        hist_sri_des  \\\n",
       "0  sri_des 1: The Return of Superman (2021): The ...   \n",
       "1  sri_des 1: The Return of Superman (2021): The ...   \n",
       "2  sri_des 1: The Return of Superman (2021): The ...   \n",
       "3  sri_des 1: The Return of Superman (2021): The ...   \n",
       "4  sri_des 1: The Return of Superman (2021): The ...   \n",
       "\n",
       "                            user_id  sequence_id  label  \n",
       "0  00189c7eddbe8fa8b0eb6cb6d27d4ee0            6      1  \n",
       "1  00189c7eddbe8fa8b0eb6cb6d27d4ee0           15      0  \n",
       "2  00189c7eddbe8fa8b0eb6cb6d27d4ee0           17      0  \n",
       "3  00189c7eddbe8fa8b0eb6cb6d27d4ee0           18      1  \n",
       "4  00189c7eddbe8fa8b0eb6cb6d27d4ee0           22      0  "
      ]
     },
     "execution_count": 33,
     "metadata": {},
     "output_type": "execute_result"
    }
   ],
   "source": [
    "df_agg_dataset.head()"
   ]
  },
  {
   "cell_type": "code",
   "execution_count": 35,
   "metadata": {},
   "outputs": [],
   "source": [
    "dict_agg_dataset = df_agg_dataset.to_dict(\"list\")"
   ]
  },
  {
   "cell_type": "code",
   "execution_count": 29,
   "metadata": {},
   "outputs": [],
   "source": [
    "df_agg_dataset = pd.DataFrame(dataset_dict_list)"
   ]
  },
  {
   "cell_type": "code",
   "execution_count": 30,
   "metadata": {},
   "outputs": [],
   "source": [
    "utils.save_object(\"./artifacts/df_agg_dataset.pkl\",df_agg_dataset)"
   ]
  },
  {
   "cell_type": "code",
   "execution_count": 37,
   "metadata": {},
   "outputs": [],
   "source": [
    "utils.save_object(\"./artifacts/dataset_dict_list.pkl\",dataset_dict_list)"
   ]
  },
  {
   "cell_type": "code",
   "execution_count": null,
   "metadata": {},
   "outputs": [],
   "source": []
  },
  {
   "cell_type": "code",
   "execution_count": 31,
   "metadata": {},
   "outputs": [
    {
     "name": "stdout",
     "output_type": "stream",
     "text": [
      "/Users/nlin/Desktop/Codes/local/VedioRecommender\n"
     ]
    }
   ],
   "source": [
    "!pwd"
   ]
  },
  {
   "cell_type": "code",
   "execution_count": 32,
   "metadata": {},
   "outputs": [
    {
     "data": {
      "text/plain": [
       "'1.4.3'"
      ]
     },
     "execution_count": 32,
     "metadata": {},
     "output_type": "execute_result"
    }
   ],
   "source": [
    "pd.__version__"
   ]
  },
  {
   "cell_type": "code",
   "execution_count": null,
   "metadata": {},
   "outputs": [],
   "source": []
  }
 ],
 "metadata": {
  "kernelspec": {
   "display_name": "Python 3.8.13 ('mlp')",
   "language": "python",
   "name": "python3"
  },
  "language_info": {
   "codemirror_mode": {
    "name": "ipython",
    "version": 3
   },
   "file_extension": ".py",
   "mimetype": "text/x-python",
   "name": "python",
   "nbconvert_exporter": "python",
   "pygments_lexer": "ipython3",
   "version": "3.8.13"
  },
  "vscode": {
   "interpreter": {
    "hash": "b007d2981b7fc6aa14922b794f9b4f023f5cfd24ddc48922ef6cc62b5714e3d6"
   }
  }
 },
 "nbformat": 4,
 "nbformat_minor": 2
}
